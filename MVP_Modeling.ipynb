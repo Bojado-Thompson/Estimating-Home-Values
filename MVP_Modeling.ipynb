{
 "cells": [
  {
   "cell_type": "markdown",
   "metadata": {},
   "source": [
    "# Estimating Home Values: MVP\n",
    "## Goals\n",
    "Using squarefootage, bedroom count, and bathroom count, predict the tax value of a single unit property sold during May and June\n",
    "\n",
    "## Steps of the Data Science Pipeline Within This Notebook\n",
    "\n",
    "### Acquire\n",
    "The get_mvp_home_data() function within the Acquire module:\n",
    "- connects to the SQL database with env login credentials\n",
    "- checks if the data is already saved to csv file (has the function been run in the current working directory?)\n",
    "- if no .csv file\n",
    "    - connects to the Zillow Database\n",
    "    - reads a sql query that selects the 4 features of single unit properties during May and June\n",
    "    - saves to a csv, and returns the df\n",
    "- if .csv file\n",
    "    - returns df from the csv\n",
    "    \n",
    "After acquiring the data, we can do univariate exploration\n",
    "    - describe the data\n",
    "    - plot single variable histograms\n",
    "\n",
    "### Prepare\n",
    "Within the Prepare module, the data is prepped by:\n",
    "- renaming columns\n",
    "- dropping uneeded id column\n",
    "- removing outliers using z-score to determine\n",
    "- splitting into train, validate, test\n",
    "- scaling the data\n",
    "\n",
    "### Explore\n",
    "- Once data is split, we can perform bivariate analysis on train\n",
    "- Determine what features influence tax value more\n",
    "    - hypothesis testing\n",
    "    - plotting correlation\n",
    "    - plotting bivariate analysis\n",
    "\n",
    "### Modeling\n",
    "- create a baseline prediction of tax value\n",
    "- create models\n",
    "    - fit models on train\n",
    "        - use LinearRegression, LassoLars, Polynomial\n",
    "    - ensure models not overfit, testing top 3 models on validate\n",
    "    - simulate best model being run on future unseen data, test on test df\n",
    "\n",
    "### Conclusions\n",
    "Conclude which model preforms best, which features have the highest influence on tax value, and what to do with this information"
   ]
  },
  {
   "cell_type": "code",
   "execution_count": 19,
   "metadata": {},
   "outputs": [],
   "source": [
    "# Set up the notebook imports\n",
    "# import modules\n",
    "import Prepare\n",
    "\n",
    "import matplotlib.pyplot as plt\n",
    "import seaborn as sns\n",
    "import pandas as pd\n",
    "import numpy as np\n",
    "\n",
    "# Modeling Imports\n",
    "from sklearn.linear_model import LinearRegression\n",
    "from sklearn.feature_selection import RFE\n",
    "from sklearn.linear_model import LinearRegression, LassoLars\n",
    "from sklearn.preprocessing import PolynomialFeatures\n",
    "\n",
    "# Modeling Metrics\n",
    "from sklearn.metrics import mean_squared_error, explained_variance_score\n",
    "from scipy import stats\n",
    "\n",
    "# Ignore Warnings\n",
    "import warnings\n",
    "warnings.filterwarnings(\"ignore\")"
   ]
  },
  {
   "cell_type": "markdown",
   "metadata": {},
   "source": [
    "# Acquire"
   ]
  },
  {
   "cell_type": "code",
   "execution_count": 2,
   "metadata": {},
   "outputs": [],
   "source": [
    "df = Prepare.prep_zillow_df(Prepare.get_mvp_home_data())"
   ]
  },
  {
   "cell_type": "code",
   "execution_count": 3,
   "metadata": {},
   "outputs": [
    {
     "name": "stdout",
     "output_type": "stream",
     "text": [
      "<class 'pandas.core.frame.DataFrame'>\n",
      "Int64Index: 18490 entries, 0 to 19148\n",
      "Data columns (total 4 columns):\n",
      " #   Column          Non-Null Count  Dtype  \n",
      "---  ------          --------------  -----  \n",
      " 0   sqft            18490 non-null  float64\n",
      " 1   bedroom_count   18490 non-null  float64\n",
      " 2   bathroom_count  18490 non-null  float64\n",
      " 3   tax_value       18490 non-null  float64\n",
      "dtypes: float64(4)\n",
      "memory usage: 722.3 KB\n"
     ]
    }
   ],
   "source": [
    "df.info()"
   ]
  },
  {
   "cell_type": "code",
   "execution_count": 4,
   "metadata": {},
   "outputs": [
    {
     "data": {
      "text/html": [
       "<div>\n",
       "<style scoped>\n",
       "    .dataframe tbody tr th:only-of-type {\n",
       "        vertical-align: middle;\n",
       "    }\n",
       "\n",
       "    .dataframe tbody tr th {\n",
       "        vertical-align: top;\n",
       "    }\n",
       "\n",
       "    .dataframe thead th {\n",
       "        text-align: right;\n",
       "    }\n",
       "</style>\n",
       "<table border=\"1\" class=\"dataframe\">\n",
       "  <thead>\n",
       "    <tr style=\"text-align: right;\">\n",
       "      <th></th>\n",
       "      <th>sqft</th>\n",
       "      <th>bedroom_count</th>\n",
       "      <th>bathroom_count</th>\n",
       "      <th>tax_value</th>\n",
       "    </tr>\n",
       "  </thead>\n",
       "  <tbody>\n",
       "    <tr>\n",
       "      <th>count</th>\n",
       "      <td>18490.00000</td>\n",
       "      <td>18490.000000</td>\n",
       "      <td>18490.000000</td>\n",
       "      <td>1.849000e+04</td>\n",
       "    </tr>\n",
       "    <tr>\n",
       "      <th>mean</th>\n",
       "      <td>1794.93629</td>\n",
       "      <td>3.113413</td>\n",
       "      <td>2.284072</td>\n",
       "      <td>4.483963e+05</td>\n",
       "    </tr>\n",
       "    <tr>\n",
       "      <th>std</th>\n",
       "      <td>968.72753</td>\n",
       "      <td>1.016633</td>\n",
       "      <td>0.965707</td>\n",
       "      <td>5.490209e+05</td>\n",
       "    </tr>\n",
       "    <tr>\n",
       "      <th>min</th>\n",
       "      <td>60.00000</td>\n",
       "      <td>0.000000</td>\n",
       "      <td>0.000000</td>\n",
       "      <td>1.000000e+02</td>\n",
       "    </tr>\n",
       "    <tr>\n",
       "      <th>25%</th>\n",
       "      <td>1210.00000</td>\n",
       "      <td>2.000000</td>\n",
       "      <td>2.000000</td>\n",
       "      <td>1.979842e+05</td>\n",
       "    </tr>\n",
       "    <tr>\n",
       "      <th>50%</th>\n",
       "      <td>1566.00000</td>\n",
       "      <td>3.000000</td>\n",
       "      <td>2.000000</td>\n",
       "      <td>3.342260e+05</td>\n",
       "    </tr>\n",
       "    <tr>\n",
       "      <th>75%</th>\n",
       "      <td>2114.00000</td>\n",
       "      <td>4.000000</td>\n",
       "      <td>3.000000</td>\n",
       "      <td>5.308875e+05</td>\n",
       "    </tr>\n",
       "    <tr>\n",
       "      <th>max</th>\n",
       "      <td>26345.00000</td>\n",
       "      <td>10.000000</td>\n",
       "      <td>19.500000</td>\n",
       "      <td>1.717000e+07</td>\n",
       "    </tr>\n",
       "  </tbody>\n",
       "</table>\n",
       "</div>"
      ],
      "text/plain": [
       "              sqft  bedroom_count  bathroom_count     tax_value\n",
       "count  18490.00000   18490.000000    18490.000000  1.849000e+04\n",
       "mean    1794.93629       3.113413        2.284072  4.483963e+05\n",
       "std      968.72753       1.016633        0.965707  5.490209e+05\n",
       "min       60.00000       0.000000        0.000000  1.000000e+02\n",
       "25%     1210.00000       2.000000        2.000000  1.979842e+05\n",
       "50%     1566.00000       3.000000        2.000000  3.342260e+05\n",
       "75%     2114.00000       4.000000        3.000000  5.308875e+05\n",
       "max    26345.00000      10.000000       19.500000  1.717000e+07"
      ]
     },
     "execution_count": 4,
     "metadata": {},
     "output_type": "execute_result"
    }
   ],
   "source": [
    "df.describe()"
   ]
  },
  {
   "cell_type": "code",
   "execution_count": 5,
   "metadata": {},
   "outputs": [
    {
     "data": {
      "image/png": "[encoded data removed]",
      "text/plain": [
       "<Figure size 1800x1080 with 4 Axes>"
      ]
     },
     "metadata": {
      "needs_background": "light"
     },
     "output_type": "display_data"
    }
   ],
   "source": [
    "# Construct a figure with subplots of histograms of features\n",
    "\n",
    "# sets size, can adjust to liking\n",
    "plt.subplots(figsize=(25, 15))\n",
    "\n",
    "plt.subplot(2,2,1);\n",
    "line1 = plt.hist(df.sqft)\n",
    "plt.title('square feet');\n",
    "\n",
    "plt.subplot(2,2,2);\n",
    "line2 = plt.hist(df.bedroom_count);\n",
    "plt.title('bed_count');\n",
    "\n",
    "plt.subplot(2,2,3);\n",
    "line3 = plt.hist(df.bathroom_count);\n",
    "plt.title('bath_count');\n",
    "\n",
    "plt.subplot(2,2,4);\n",
    "line3 = plt.hist(df.tax_value);\n",
    "plt.title('tax_value');"
   ]
  },
  {
   "cell_type": "markdown",
   "metadata": {},
   "source": [
    "### Takeaways\n",
    "- bedroom count is normally distributed\n",
    "- Outliers are present in all other features"
   ]
  },
  {
   "cell_type": "markdown",
   "metadata": {},
   "source": [
    "# Prepare"
   ]
  },
  {
   "cell_type": "markdown",
   "metadata": {},
   "source": [
    "## Removing Outliers"
   ]
  },
  {
   "cell_type": "code",
   "execution_count": 6,
   "metadata": {},
   "outputs": [],
   "source": [
    "# Calculate z-score for each value in df\n",
    "z = np.abs(stats.zscore(df))\n",
    "\n",
    "# create train df without outliers\n",
    "df_o = df[(z < 3).all(axis=1)]"
   ]
  },
  {
   "cell_type": "markdown",
   "metadata": {},
   "source": [
    "## Splitting the Data\n",
    "Within the prepare module, our function splits the data into\n",
    "- about 70% for train\n",
    "- about 20% for validate\n",
    "- exactly 10% for test"
   ]
  },
  {
   "cell_type": "code",
   "execution_count": 7,
   "metadata": {},
   "outputs": [
    {
     "name": "stdout",
     "output_type": "stream",
     "text": [
      "train shape:  (13312, 4) , validate shape:  (3329, 4) , test shape:  (1849, 4)\n",
      "\n",
      "train percent:  72.0 , validate percent:  18.0 , test percent:  10.0\n"
     ]
    }
   ],
   "source": [
    "train, validate, test = Prepare.train_test_validate(df)"
   ]
  },
  {
   "cell_type": "code",
   "execution_count": 8,
   "metadata": {},
   "outputs": [
    {
     "data": {
      "text/html": [
       "<div>\n",
       "<style scoped>\n",
       "    .dataframe tbody tr th:only-of-type {\n",
       "        vertical-align: middle;\n",
       "    }\n",
       "\n",
       "    .dataframe tbody tr th {\n",
       "        vertical-align: top;\n",
       "    }\n",
       "\n",
       "    .dataframe thead th {\n",
       "        text-align: right;\n",
       "    }\n",
       "</style>\n",
       "<table border=\"1\" class=\"dataframe\">\n",
       "  <thead>\n",
       "    <tr style=\"text-align: right;\">\n",
       "      <th></th>\n",
       "      <th>sqft</th>\n",
       "      <th>bedroom_count</th>\n",
       "      <th>bathroom_count</th>\n",
       "      <th>tax_value</th>\n",
       "      <th>bath_count_scaled</th>\n",
       "      <th>bed_count_scaled</th>\n",
       "      <th>square_feet_scaled</th>\n",
       "    </tr>\n",
       "  </thead>\n",
       "  <tbody>\n",
       "    <tr>\n",
       "      <th>11548</th>\n",
       "      <td>1414.0</td>\n",
       "      <td>3.0</td>\n",
       "      <td>2.0</td>\n",
       "      <td>156164.0</td>\n",
       "      <td>-0.393602</td>\n",
       "      <td>-0.113343</td>\n",
       "      <td>-0.295933</td>\n",
       "    </tr>\n",
       "    <tr>\n",
       "      <th>4070</th>\n",
       "      <td>1541.0</td>\n",
       "      <td>2.0</td>\n",
       "      <td>3.0</td>\n",
       "      <td>245710.0</td>\n",
       "      <td>-0.260492</td>\n",
       "      <td>-1.096286</td>\n",
       "      <td>0.753889</td>\n",
       "    </tr>\n",
       "    <tr>\n",
       "      <th>4206</th>\n",
       "      <td>1672.0</td>\n",
       "      <td>3.0</td>\n",
       "      <td>2.0</td>\n",
       "      <td>85486.0</td>\n",
       "      <td>-0.123189</td>\n",
       "      <td>-0.113343</td>\n",
       "      <td>-0.295933</td>\n",
       "    </tr>\n",
       "    <tr>\n",
       "      <th>13273</th>\n",
       "      <td>2555.0</td>\n",
       "      <td>4.0</td>\n",
       "      <td>3.0</td>\n",
       "      <td>587732.0</td>\n",
       "      <td>0.802292</td>\n",
       "      <td>0.869601</td>\n",
       "      <td>0.753889</td>\n",
       "    </tr>\n",
       "    <tr>\n",
       "      <th>12135</th>\n",
       "      <td>1040.0</td>\n",
       "      <td>3.0</td>\n",
       "      <td>1.0</td>\n",
       "      <td>403858.0</td>\n",
       "      <td>-0.785595</td>\n",
       "      <td>-0.113343</td>\n",
       "      <td>-1.345755</td>\n",
       "    </tr>\n",
       "  </tbody>\n",
       "</table>\n",
       "</div>"
      ],
      "text/plain": [
       "         sqft  bedroom_count  bathroom_count  tax_value  bath_count_scaled  \\\n",
       "11548  1414.0            3.0             2.0   156164.0          -0.393602   \n",
       "4070   1541.0            2.0             3.0   245710.0          -0.260492   \n",
       "4206   1672.0            3.0             2.0    85486.0          -0.123189   \n",
       "13273  2555.0            4.0             3.0   587732.0           0.802292   \n",
       "12135  1040.0            3.0             1.0   403858.0          -0.785595   \n",
       "\n",
       "       bed_count_scaled  square_feet_scaled  \n",
       "11548         -0.113343           -0.295933  \n",
       "4070          -1.096286            0.753889  \n",
       "4206          -0.113343           -0.295933  \n",
       "13273          0.869601            0.753889  \n",
       "12135         -0.113343           -1.345755  "
      ]
     },
     "execution_count": 8,
     "metadata": {},
     "output_type": "execute_result"
    }
   ],
   "source": [
    "# take a look at the data\n",
    "# we have scaled values for our independent features, random sampling of properties seen by index\n",
    "train.head()"
   ]
  },
  {
   "cell_type": "markdown",
   "metadata": {},
   "source": [
    "## Plotting Distribution of Independent Features Before and After Scaling"
   ]
  },
  {
   "cell_type": "code",
   "execution_count": 12,
   "metadata": {},
   "outputs": [
    {
     "data": {
      "text/plain": [
       "Text(0.5, 1.0, 'Standard Scaled Bathroom Count')"
      ]
     },
     "execution_count": 12,
     "metadata": {},
     "output_type": "execute_result"
    },
    {
     "data": {
      "image/png": "[encoded data removed]",
      "text/plain": [
       "<Figure size 1080x720 with 6 Axes>"
      ]
     },
     "metadata": {
      "needs_background": "light"
     },
     "output_type": "display_data"
    }
   ],
   "source": [
    "# setting size of the whole figure\n",
    "plt.figure(figsize=(15, 10))\n",
    "\n",
    "# Our subplot is a 3 by 2 matrix\n",
    "# First plot\n",
    "plt.subplot(321)\n",
    "plt.hist(train.sqft, bins=25, ec='black')\n",
    "plt.title('Original Square Feet')\n",
    "\n",
    "# Second plot\n",
    "plt.subplot(322)\n",
    "plt.hist(train.square_feet_scaled, bins=25, ec='black')\n",
    "plt.title('Standard Scaled Square Feet')\n",
    "\n",
    "# Third plot\n",
    "plt.subplot(323)\n",
    "plt.hist(train.bedroom_count, bins=25, ec='black')\n",
    "plt.title('Original Bedroom Count')\n",
    "\n",
    "# Fourth plot\n",
    "plt.subplot(324)\n",
    "plt.hist(train.bed_count_scaled, bins=25, ec='black')\n",
    "plt.title('Standard Scaled Bedroom Count')\n",
    "\n",
    "# Fifth plot\n",
    "plt.subplot(325)\n",
    "plt.hist(train.bathroom_count, bins=25, ec='black')\n",
    "plt.title('Original Bathroom Count')\n",
    "\n",
    "# Sixth plot\n",
    "plt.subplot(326)\n",
    "plt.hist(train.bath_count_scaled, bins=25, ec='black')\n",
    "plt.title('Standard Scaled Bathroom Count')"
   ]
  },
  {
   "cell_type": "markdown",
   "metadata": {},
   "source": [
    "## Takeaways\n",
    "After prepping, the data...\n",
    "- has no outliers\n",
    "- is split into train, validate, test\n",
    "- is scaled"
   ]
  },
  {
   "cell_type": "markdown",
   "metadata": {},
   "source": [
    "# Explore"
   ]
  },
  {
   "cell_type": "markdown",
   "metadata": {},
   "source": [
    "## Visualization of Bivariate Analysis"
   ]
  },
  {
   "cell_type": "code",
   "execution_count": 33,
   "metadata": {},
   "outputs": [
    {
     "data": {
      "text/plain": [
       "<seaborn.axisgrid.PairGrid at 0x7fc4ac69f410>"
      ]
     },
     "execution_count": 33,
     "metadata": {},
     "output_type": "execute_result"
    },
    {
     "data": {
      "image/png": "[encoded data removed]",
      "text/plain": [
       "<Figure size 720x720 with 14 Axes>"
      ]
     },
     "metadata": {
      "needs_background": "light"
     },
     "output_type": "display_data"
    }
   ],
   "source": [
    "# pairplot of scaled data\n",
    "sns.pairplot(train.drop(['sqft','bedroom_count','bathroom_count'],axis=1), corner=True)"
   ]
  },
  {
   "cell_type": "code",
   "execution_count": 35,
   "metadata": {},
   "outputs": [
    {
     "data": {
      "text/plain": [
       "<matplotlib.axes._subplots.AxesSubplot at 0x7fc4b0455fd0>"
      ]
     },
     "execution_count": 35,
     "metadata": {},
     "output_type": "execute_result"
    },
    {
     "data": {
      "image/png": "[encoded data removed]",
      "text/plain": [
       "<Figure size 432x288 with 2 Axes>"
      ]
     },
     "metadata": {
      "needs_background": "light"
     },
     "output_type": "display_data"
    }
   ],
   "source": [
    "corr = train.drop(['sqft','bedroom_count','bathroom_count'],axis=1).corr()\n",
    "sns.heatmap(corr, cmap='Blues')"
   ]
  },
  {
   "cell_type": "code",
   "execution_count": 36,
   "metadata": {},
   "outputs": [
    {
     "data": {
      "text/plain": [
       "(0, 25)"
      ]
     },
     "execution_count": 36,
     "metadata": {},
     "output_type": "execute_result"
    },
    {
     "data": {
      "image/png": "[encoded data removed]",
      "text/plain": [
       "<Figure size 432x288 with 1 Axes>"
      ]
     },
     "metadata": {
      "needs_background": "light"
     },
     "output_type": "display_data"
    }
   ],
   "source": [
    "sns.barplot(data=df, x='bedroom_count', y='bathroom_count')\n",
    "plt.ylim(0,25)"
   ]
  },
  {
   "cell_type": "markdown",
   "metadata": {},
   "source": [
    "## Hypothesis Testing"
   ]
  },
  {
   "cell_type": "markdown",
   "metadata": {},
   "source": [
    "### T-Test\n",
    "Does square footage affect tax value?"
   ]
  },
  {
   "cell_type": "code",
   "execution_count": 39,
   "metadata": {},
   "outputs": [
    {
     "data": {
      "text/plain": [
       "1789.5347806490386"
      ]
     },
     "execution_count": 39,
     "metadata": {},
     "output_type": "execute_result"
    }
   ],
   "source": [
    "train.sqft.mean()"
   ]
  },
  {
   "cell_type": "markdown",
   "metadata": {},
   "source": [
    "$H_0$: The average price of homes with 5000 sq.ft. or more is equal to the average price of homes with 5000 sq.ft. or less.\n",
    "\n",
    "$H_A$: Homes with 5000 sq.ft. or more have higher than average tax dollar count."
   ]
  },
  {
   "cell_type": "code",
   "execution_count": 38,
   "metadata": {},
   "outputs": [
    {
     "name": "stdout",
     "output_type": "stream",
     "text": [
      "We Reject the Null Hypothesis\n"
     ]
    }
   ],
   "source": [
    "df_less_than_5000 = train[train.sqft >= 5000]\n",
    "df_greater_than_5000 = train[train.sqft > 5000]\n",
    "\n",
    "a = df_less_than_5000.tax_value.mean()\n",
    "\n",
    "b = df_greater_than_5000.tax_value.mean()\n",
    "\n",
    "t, p = stats.ttest_ind(df_greater_than_5000.tax_value,\n",
    "                df_less_than_5000.tax_value)\n",
    "\n",
    "if p > a:\n",
    "    print('We Fail to Reject the Null Hypothesis')\n",
    "else:\n",
    "    print('We Reject the Null Hypothesis')"
   ]
  },
  {
   "cell_type": "markdown",
   "metadata": {},
   "source": [
    "## T-Test\n",
    "Does bathroom count affect tax value?"
   ]
  },
  {
   "cell_type": "code",
   "execution_count": 41,
   "metadata": {},
   "outputs": [
    {
     "data": {
      "text/plain": [
       "2.2818885216346154"
      ]
     },
     "execution_count": 41,
     "metadata": {},
     "output_type": "execute_result"
    }
   ],
   "source": [
    "train.bathroom_count.mean()"
   ]
  },
  {
   "cell_type": "markdown",
   "metadata": {},
   "source": [
    "$H_0$: Average price of homes with more than two bathrooms is equal to the average price of homes with less than two bathrooms.\n",
    "\n",
    "$H_A$: Homes with more than two bathrooms have higher than average tax dollar count."
   ]
  },
  {
   "cell_type": "code",
   "execution_count": 44,
   "metadata": {},
   "outputs": [
    {
     "name": "stdout",
     "output_type": "stream",
     "text": [
      "We Reject the Null Hypothesis\n"
     ]
    }
   ],
   "source": [
    "df_less_than_2_bath = train[train.bathroom_count >= 2]\n",
    "df_greater_than_2_bath = train[train.bathroom_count > 2]\n",
    "\n",
    "a = df_less_than_2_bath.tax_value.mean()\n",
    "\n",
    "b = df_greater_than_2_bath.tax_value.mean()\n",
    "\n",
    "t, p = stats.ttest_ind(df_greater_than_2_bath.tax_value,\n",
    "                df_less_than_2_bath.tax_value)\n",
    "\n",
    "if p > a:\n",
    "    print('We Fail to Reject the Null Hypothesis')\n",
    "else:\n",
    "    print('We Reject the Null Hypothesis')"
   ]
  },
  {
   "cell_type": "markdown",
   "metadata": {},
   "source": [
    "### Correlation Test\n",
    "- Another test for sqft"
   ]
  },
  {
   "cell_type": "markdown",
   "metadata": {},
   "source": [
    "$H0$: There is no relationship between total house square feet and tax value\n",
    "\n",
    "$H1$: There is a relationship between total house square feet and tax value"
   ]
  },
  {
   "cell_type": "code",
   "execution_count": 48,
   "metadata": {},
   "outputs": [
    {
     "name": "stdout",
     "output_type": "stream",
     "text": [
      "0.648899063193856 0.0\n",
      "We Reject the Null Hypothesis\n"
     ]
    }
   ],
   "source": [
    "confidence_interval = 0.95\n",
    "alpha = 1 - confidence_interval \n",
    "t, p = stats.pearsonr(train.sqft, train.tax_value)\n",
    "\n",
    "corr, p = stats.pearsonr(train.sqft, train.tax_value)\n",
    "print(corr, p)\n",
    "\n",
    "if p > a:\n",
    "    print('We Fail to Reject the Null Hypothesis')\n",
    "else:\n",
    "    print('We Reject the Null Hypothesis')"
   ]
  },
  {
   "cell_type": "markdown",
   "metadata": {},
   "source": [
    "## Takeaways\n",
    "- blah\n",
    "- blah, blah"
   ]
  },
  {
   "cell_type": "markdown",
   "metadata": {},
   "source": [
    "# Modeling"
   ]
  },
  {
   "cell_type": "markdown",
   "metadata": {},
   "source": [
    "## Split Into Independent and Dependent Variables"
   ]
  },
  {
   "cell_type": "code",
   "execution_count": 10,
   "metadata": {},
   "outputs": [],
   "source": [
    "X_train = train.drop(['sqft','bedroom_count','bathroom_count','tax_value'],axis=1)\n",
    "X_validate = validate.drop(['sqft','bedroom_count','bathroom_count','tax_value'],axis=1)\n",
    "X_test = test.drop(['sqft','bedroom_count','bathroom_count','tax_value'],axis=1)\n",
    "\n",
    "y_train = train[['tax_value']]\n",
    "y_validate = validate[['tax_value']]\n",
    "y_test = test[['tax_value']]"
   ]
  },
  {
   "cell_type": "markdown",
   "metadata": {},
   "source": [
    "## Baseline\n",
    "- how the target variable is distributed will determine the baseline\n",
    "- mean, median, or mode of tax value"
   ]
  },
  {
   "cell_type": "code",
   "execution_count": 13,
   "metadata": {},
   "outputs": [
    {
     "data": {
      "text/plain": [
       "count       13312.000000\n",
       "mean       444924.834660\n",
       "std        519762.140179\n",
       "min           100.000000\n",
       "25%        197272.250000\n",
       "50%        333976.000000\n",
       "75%        531322.250000\n",
       "max      14721125.000000\n",
       "Name: tax_value, dtype: object"
      ]
     },
     "execution_count": 13,
     "metadata": {},
     "output_type": "execute_result"
    }
   ],
   "source": [
    "train.tax_value.describe().apply(lambda x: format(x, 'f'))"
   ]
  },
  {
   "cell_type": "code",
   "execution_count": 17,
   "metadata": {},
   "outputs": [
    {
     "name": "stdout",
     "output_type": "stream",
     "text": [
      "The Baseline Mean Squared Error: 270132388442.16\n",
      "The Baseline Root Mean Squared Error: 135066194221.08\n"
     ]
    }
   ],
   "source": [
    "baseline = train.tax_value.mean()\n",
    "\n",
    "baseline_mse = mean_squared_error(y_train, np.full(y_train.shape, baseline))\n",
    "baseline_rmse = baseline_mse**1/2\n",
    "\n",
    "print('The Baseline Mean Squared Error:', round(baseline_mse,2))\n",
    "print('The Baseline Root Mean Squared Error:', round(baseline_rmse,2))"
   ]
  },
  {
   "cell_type": "markdown",
   "metadata": {},
   "source": [
    "## LinearRegression Model"
   ]
  },
  {
   "cell_type": "code",
   "execution_count": 21,
   "metadata": {},
   "outputs": [
    {
     "data": {
      "text/plain": [
       "74060953151.81381"
      ]
     },
     "execution_count": 21,
     "metadata": {},
     "output_type": "execute_result"
    }
   ],
   "source": [
    "# create the object\n",
    "lm = LinearRegression(normalize=True)\n",
    "\n",
    "# fit object to the train data only\n",
    "lm.fit(X_train, y_train)\n",
    "\n",
    "# Predict our training observations\n",
    "lm_pred = lm.predict(X_train)\n",
    "\n",
    "# evaluate our training predictions\n",
    "# compute root mean squared error\n",
    "lm_mse = mean_squared_error(y_train, lm_pred)\n",
    "lm_rmse = lm_mse**1/2\n",
    "\n",
    "lm_rmse"
   ]
  },
  {
   "cell_type": "markdown",
   "metadata": {},
   "source": [
    "## LassoLars"
   ]
  },
  {
   "cell_type": "code",
   "execution_count": 23,
   "metadata": {},
   "outputs": [
    {
     "data": {
      "text/plain": [
       "74060953561.81708"
      ]
     },
     "execution_count": 23,
     "metadata": {},
     "output_type": "execute_result"
    }
   ],
   "source": [
    "# create the object\n",
    "lars = LassoLars(alpha=0.1)\n",
    "\n",
    "# fit to the train data only\n",
    "lars.fit(X_train, y_train)\n",
    "\n",
    "# predict our training observations\n",
    "lars_pred = lars.predict(X_train)\n",
    "\n",
    "# evaluate our training predictions\n",
    "lars_mse = mean_squared_error(y_train, lars_pred)\n",
    "lars_rmse = lars_mse**1/2\n",
    "\n",
    "lars_rmse"
   ]
  },
  {
   "cell_type": "markdown",
   "metadata": {},
   "source": [
    "## Polynomial Model"
   ]
  },
  {
   "cell_type": "code",
   "execution_count": 24,
   "metadata": {},
   "outputs": [
    {
     "data": {
      "text/plain": [
       "67274003446.80885"
      ]
     },
     "execution_count": 24,
     "metadata": {},
     "output_type": "execute_result"
    }
   ],
   "source": [
    "pf = PolynomialFeatures(degree=3)\n",
    "\n",
    "# fit and transform the thing\n",
    "# to get a new set of features..which are the original features sqauared\n",
    "X_train_cubed = pf.fit_transform(X_train)\n",
    "\n",
    "# fit the model using our training observations that have been cubed.\n",
    "# feed that data into our linear model\n",
    "# make the thing\n",
    "lm_cubed = LinearRegression()\n",
    "lm_cubed.fit(X_train_cubed, y_train)\n",
    "\n",
    "# predict our training observations (the cubed version)\n",
    "lm_cubed_pred = lm_cubed.predict(X_train_cubed)\n",
    "\n",
    "# evaluate our predictions on training observations\n",
    "lm_cubed_mse = mean_squared_error(y_train, lm_cubed_pred)\n",
    "lm_cubed_rmse = lm_cubed_mse**1/2\n",
    "\n",
    "lm_cubed_rmse"
   ]
  },
  {
   "cell_type": "markdown",
   "metadata": {},
   "source": [
    "## Takeaways\n",
    "- this model performed the best\n",
    "- models did better/worse than baseline"
   ]
  },
  {
   "cell_type": "markdown",
   "metadata": {},
   "source": [
    "# Conclusions"
   ]
  }
 ],
 "metadata": {
  "kernelspec": {
   "display_name": "Python 3",
   "language": "python",
   "name": "python3"
  },
  "language_info": {
   "codemirror_mode": {
    "name": "ipython",
    "version": 3
   },
   "file_extension": ".py",
   "mimetype": "text/x-python",
   "name": "python",
   "nbconvert_exporter": "python",
   "pygments_lexer": "ipython3",
   "version": "3.7.6"
  }
 },
 "nbformat": 4,
 "nbformat_minor": 4
}
