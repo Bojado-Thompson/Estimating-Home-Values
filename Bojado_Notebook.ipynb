{
 "cells": [
  {
   "cell_type": "markdown",
   "metadata": {},
   "source": [
    "# 1. Acquire"
   ]
  },
  {
   "cell_type": "code",
   "execution_count": 1,
   "metadata": {},
   "outputs": [
    {
     "name": "stdout",
     "output_type": "stream",
     "text": [
      "Imports Completed.\n"
     ]
    }
   ],
   "source": [
    "# Import Python Libraries \n",
    "import pandas as pd\n",
    "import numpy as np\n",
    "import matplotlib.pyplot as plt\n",
    "import seaborn as sns\n",
    "\n",
    "# Import Acquire and Prep Files\n",
    "import Acquire\n",
    "import os \n",
    "import Prepare \n",
    "\n",
    "# Import for model object and metric functions\n",
    "import sklearn.preprocessing\n",
    "from sklearn.model_selection import train_test_split\n",
    "from sklearn.metrics import mean_squared_error, explained_variance_score\n",
    "from sklearn.linear_model import LinearRegression\n",
    "from sklearn.feature_selection import RFE\n",
    "from scipy import stats\n",
    "from math import sqrt\n",
    "\n",
    "# Import Warnings \n",
    "import warnings\n",
    "warnings.filterwarnings(\"ignore\")\n",
    "\n",
    "print('Imports Completed.')"
   ]
  },
  {
   "cell_type": "code",
   "execution_count": 2,
   "metadata": {},
   "outputs": [],
   "source": [
    "df = Acquire.get_mvp_home_data() "
   ]
  },
  {
   "cell_type": "code",
   "execution_count": 3,
   "metadata": {},
   "outputs": [
    {
     "data": {
      "text/html": [
       "<div>\n",
       "<style scoped>\n",
       "    .dataframe tbody tr th:only-of-type {\n",
       "        vertical-align: middle;\n",
       "    }\n",
       "\n",
       "    .dataframe tbody tr th {\n",
       "        vertical-align: top;\n",
       "    }\n",
       "\n",
       "    .dataframe thead th {\n",
       "        text-align: right;\n",
       "    }\n",
       "</style>\n",
       "<table border=\"1\" class=\"dataframe\">\n",
       "  <thead>\n",
       "    <tr style=\"text-align: right;\">\n",
       "      <th></th>\n",
       "      <th>id</th>\n",
       "      <th>calculatedfinishedsquarefeet</th>\n",
       "      <th>bedroomcnt</th>\n",
       "      <th>bathroomcnt</th>\n",
       "      <th>taxvaluedollarcnt</th>\n",
       "    </tr>\n",
       "  </thead>\n",
       "  <tbody>\n",
       "    <tr>\n",
       "      <th>0</th>\n",
       "      <td>1018</td>\n",
       "      <td>1819.0</td>\n",
       "      <td>3.0</td>\n",
       "      <td>2.0</td>\n",
       "      <td>478430.0</td>\n",
       "    </tr>\n",
       "    <tr>\n",
       "      <th>1</th>\n",
       "      <td>1248</td>\n",
       "      <td>1000.0</td>\n",
       "      <td>0.0</td>\n",
       "      <td>0.0</td>\n",
       "      <td>27400.0</td>\n",
       "    </tr>\n",
       "    <tr>\n",
       "      <th>2</th>\n",
       "      <td>1734</td>\n",
       "      <td>1503.0</td>\n",
       "      <td>2.0</td>\n",
       "      <td>2.0</td>\n",
       "      <td>171687.0</td>\n",
       "    </tr>\n",
       "    <tr>\n",
       "      <th>3</th>\n",
       "      <td>1772</td>\n",
       "      <td>1604.0</td>\n",
       "      <td>4.0</td>\n",
       "      <td>2.0</td>\n",
       "      <td>498347.0</td>\n",
       "    </tr>\n",
       "    <tr>\n",
       "      <th>4</th>\n",
       "      <td>2028</td>\n",
       "      <td>2384.0</td>\n",
       "      <td>3.0</td>\n",
       "      <td>3.0</td>\n",
       "      <td>549917.0</td>\n",
       "    </tr>\n",
       "  </tbody>\n",
       "</table>\n",
       "</div>"
      ],
      "text/plain": [
       "     id  calculatedfinishedsquarefeet  bedroomcnt  bathroomcnt  \\\n",
       "0  1018                        1819.0         3.0          2.0   \n",
       "1  1248                        1000.0         0.0          0.0   \n",
       "2  1734                        1503.0         2.0          2.0   \n",
       "3  1772                        1604.0         4.0          2.0   \n",
       "4  2028                        2384.0         3.0          3.0   \n",
       "\n",
       "   taxvaluedollarcnt  \n",
       "0           478430.0  \n",
       "1            27400.0  \n",
       "2           171687.0  \n",
       "3           498347.0  \n",
       "4           549917.0  "
      ]
     },
     "execution_count": 3,
     "metadata": {},
     "output_type": "execute_result"
    }
   ],
   "source": [
    "df.head()"
   ]
  },
  {
   "cell_type": "markdown",
   "metadata": {},
   "source": [
    "# 2. Prepare"
   ]
  },
  {
   "cell_type": "code",
   "execution_count": 4,
   "metadata": {},
   "outputs": [
    {
     "data": {
      "text/plain": [
       "(19149, 5)"
      ]
     },
     "execution_count": 4,
     "metadata": {},
     "output_type": "execute_result"
    }
   ],
   "source": [
    "df.shape"
   ]
  },
  {
   "cell_type": "code",
   "execution_count": 5,
   "metadata": {},
   "outputs": [
    {
     "data": {
      "text/html": [
       "<div>\n",
       "<style scoped>\n",
       "    .dataframe tbody tr th:only-of-type {\n",
       "        vertical-align: middle;\n",
       "    }\n",
       "\n",
       "    .dataframe tbody tr th {\n",
       "        vertical-align: top;\n",
       "    }\n",
       "\n",
       "    .dataframe thead th {\n",
       "        text-align: right;\n",
       "    }\n",
       "</style>\n",
       "<table border=\"1\" class=\"dataframe\">\n",
       "  <thead>\n",
       "    <tr style=\"text-align: right;\">\n",
       "      <th></th>\n",
       "      <th>id</th>\n",
       "      <th>calculatedfinishedsquarefeet</th>\n",
       "      <th>bedroomcnt</th>\n",
       "      <th>bathroomcnt</th>\n",
       "      <th>taxvaluedollarcnt</th>\n",
       "    </tr>\n",
       "  </thead>\n",
       "  <tbody>\n",
       "    <tr>\n",
       "      <th>count</th>\n",
       "      <td>19149.000000</td>\n",
       "      <td>18783.000000</td>\n",
       "      <td>19149.000000</td>\n",
       "      <td>19149.000000</td>\n",
       "      <td>1.884100e+04</td>\n",
       "    </tr>\n",
       "    <tr>\n",
       "      <th>mean</th>\n",
       "      <td>52465.910805</td>\n",
       "      <td>1784.874621</td>\n",
       "      <td>3.006632</td>\n",
       "      <td>2.205833</td>\n",
       "      <td>4.443516e+05</td>\n",
       "    </tr>\n",
       "    <tr>\n",
       "      <th>std</th>\n",
       "      <td>6396.665259</td>\n",
       "      <td>965.575765</td>\n",
       "      <td>1.148385</td>\n",
       "      <td>1.035924</td>\n",
       "      <td>5.547795e+05</td>\n",
       "    </tr>\n",
       "    <tr>\n",
       "      <th>min</th>\n",
       "      <td>1018.000000</td>\n",
       "      <td>60.000000</td>\n",
       "      <td>0.000000</td>\n",
       "      <td>0.000000</td>\n",
       "      <td>1.000000e+01</td>\n",
       "    </tr>\n",
       "    <tr>\n",
       "      <th>25%</th>\n",
       "      <td>47163.000000</td>\n",
       "      <td>1204.000000</td>\n",
       "      <td>2.000000</td>\n",
       "      <td>2.000000</td>\n",
       "      <td>1.925360e+05</td>\n",
       "    </tr>\n",
       "    <tr>\n",
       "      <th>50%</th>\n",
       "      <td>52742.000000</td>\n",
       "      <td>1557.000000</td>\n",
       "      <td>3.000000</td>\n",
       "      <td>2.000000</td>\n",
       "      <td>3.294930e+05</td>\n",
       "    </tr>\n",
       "    <tr>\n",
       "      <th>75%</th>\n",
       "      <td>57785.000000</td>\n",
       "      <td>2102.500000</td>\n",
       "      <td>4.000000</td>\n",
       "      <td>3.000000</td>\n",
       "      <td>5.280000e+05</td>\n",
       "    </tr>\n",
       "    <tr>\n",
       "      <th>max</th>\n",
       "      <td>62970.000000</td>\n",
       "      <td>26345.000000</td>\n",
       "      <td>10.000000</td>\n",
       "      <td>19.500000</td>\n",
       "      <td>1.717000e+07</td>\n",
       "    </tr>\n",
       "  </tbody>\n",
       "</table>\n",
       "</div>"
      ],
      "text/plain": [
       "                 id  calculatedfinishedsquarefeet    bedroomcnt   bathroomcnt  \\\n",
       "count  19149.000000                  18783.000000  19149.000000  19149.000000   \n",
       "mean   52465.910805                   1784.874621      3.006632      2.205833   \n",
       "std     6396.665259                    965.575765      1.148385      1.035924   \n",
       "min     1018.000000                     60.000000      0.000000      0.000000   \n",
       "25%    47163.000000                   1204.000000      2.000000      2.000000   \n",
       "50%    52742.000000                   1557.000000      3.000000      2.000000   \n",
       "75%    57785.000000                   2102.500000      4.000000      3.000000   \n",
       "max    62970.000000                  26345.000000     10.000000     19.500000   \n",
       "\n",
       "       taxvaluedollarcnt  \n",
       "count       1.884100e+04  \n",
       "mean        4.443516e+05  \n",
       "std         5.547795e+05  \n",
       "min         1.000000e+01  \n",
       "25%         1.925360e+05  \n",
       "50%         3.294930e+05  \n",
       "75%         5.280000e+05  \n",
       "max         1.717000e+07  "
      ]
     },
     "execution_count": 5,
     "metadata": {},
     "output_type": "execute_result"
    }
   ],
   "source": [
    "df.describe() "
   ]
  },
  {
   "cell_type": "code",
   "execution_count": 6,
   "metadata": {},
   "outputs": [
    {
     "name": "stdout",
     "output_type": "stream",
     "text": [
      "<class 'pandas.core.frame.DataFrame'>\n",
      "Int64Index: 19149 entries, 0 to 19148\n",
      "Data columns (total 5 columns):\n",
      " #   Column                        Non-Null Count  Dtype  \n",
      "---  ------                        --------------  -----  \n",
      " 0   id                            19149 non-null  int64  \n",
      " 1   calculatedfinishedsquarefeet  18783 non-null  float64\n",
      " 2   bedroomcnt                    19149 non-null  float64\n",
      " 3   bathroomcnt                   19149 non-null  float64\n",
      " 4   taxvaluedollarcnt             18841 non-null  float64\n",
      "dtypes: float64(4), int64(1)\n",
      "memory usage: 897.6 KB\n"
     ]
    }
   ],
   "source": [
    "df.info() "
   ]
  },
  {
   "cell_type": "code",
   "execution_count": 7,
   "metadata": {},
   "outputs": [
    {
     "data": {
      "text/plain": [
       "id                                0\n",
       "calculatedfinishedsquarefeet    366\n",
       "bedroomcnt                        0\n",
       "bathroomcnt                       0\n",
       "taxvaluedollarcnt               308\n",
       "dtype: int64"
      ]
     },
     "execution_count": 7,
     "metadata": {},
     "output_type": "execute_result"
    }
   ],
   "source": [
    "df.isnull().sum() "
   ]
  },
  {
   "cell_type": "code",
   "execution_count": 8,
   "metadata": {},
   "outputs": [],
   "source": [
    "# Dropping null values\n",
    "df = df.dropna()"
   ]
  },
  {
   "cell_type": "code",
   "execution_count": 9,
   "metadata": {},
   "outputs": [
    {
     "data": {
      "text/plain": [
       "id                              0\n",
       "calculatedfinishedsquarefeet    0\n",
       "bedroomcnt                      0\n",
       "bathroomcnt                     0\n",
       "taxvaluedollarcnt               0\n",
       "dtype: int64"
      ]
     },
     "execution_count": 9,
     "metadata": {},
     "output_type": "execute_result"
    }
   ],
   "source": [
    "df.isnull().sum() "
   ]
  },
  {
   "cell_type": "code",
   "execution_count": 10,
   "metadata": {},
   "outputs": [],
   "source": [
    "# Renaming columns\n",
    "df = df.rename(columns = {'calculatedfinishedsquarefeet':'sqft'})\n",
    "df = df.rename(columns = {'bedroomcnt':'bedroom_count'})\n",
    "df = df.rename(columns = {'bathroomcnt':'bathroom_count'})\n",
    "df = df.rename(columns = {'taxvaluedollarcnt':'tax_value'})"
   ]
  },
  {
   "cell_type": "code",
   "execution_count": 11,
   "metadata": {},
   "outputs": [
    {
     "data": {
      "text/html": [
       "<div>\n",
       "<style scoped>\n",
       "    .dataframe tbody tr th:only-of-type {\n",
       "        vertical-align: middle;\n",
       "    }\n",
       "\n",
       "    .dataframe tbody tr th {\n",
       "        vertical-align: top;\n",
       "    }\n",
       "\n",
       "    .dataframe thead th {\n",
       "        text-align: right;\n",
       "    }\n",
       "</style>\n",
       "<table border=\"1\" class=\"dataframe\">\n",
       "  <thead>\n",
       "    <tr style=\"text-align: right;\">\n",
       "      <th></th>\n",
       "      <th>sqft</th>\n",
       "      <th>bedroom_count</th>\n",
       "      <th>bathroom_count</th>\n",
       "      <th>tax_value</th>\n",
       "    </tr>\n",
       "  </thead>\n",
       "  <tbody>\n",
       "    <tr>\n",
       "      <th>0</th>\n",
       "      <td>1819.0</td>\n",
       "      <td>3.0</td>\n",
       "      <td>2.0</td>\n",
       "      <td>478430.0</td>\n",
       "    </tr>\n",
       "    <tr>\n",
       "      <th>1</th>\n",
       "      <td>1000.0</td>\n",
       "      <td>0.0</td>\n",
       "      <td>0.0</td>\n",
       "      <td>27400.0</td>\n",
       "    </tr>\n",
       "    <tr>\n",
       "      <th>2</th>\n",
       "      <td>1503.0</td>\n",
       "      <td>2.0</td>\n",
       "      <td>2.0</td>\n",
       "      <td>171687.0</td>\n",
       "    </tr>\n",
       "    <tr>\n",
       "      <th>3</th>\n",
       "      <td>1604.0</td>\n",
       "      <td>4.0</td>\n",
       "      <td>2.0</td>\n",
       "      <td>498347.0</td>\n",
       "    </tr>\n",
       "    <tr>\n",
       "      <th>4</th>\n",
       "      <td>2384.0</td>\n",
       "      <td>3.0</td>\n",
       "      <td>3.0</td>\n",
       "      <td>549917.0</td>\n",
       "    </tr>\n",
       "  </tbody>\n",
       "</table>\n",
       "</div>"
      ],
      "text/plain": [
       "     sqft  bedroom_count  bathroom_count  tax_value\n",
       "0  1819.0            3.0             2.0   478430.0\n",
       "1  1000.0            0.0             0.0    27400.0\n",
       "2  1503.0            2.0             2.0   171687.0\n",
       "3  1604.0            4.0             2.0   498347.0\n",
       "4  2384.0            3.0             3.0   549917.0"
      ]
     },
     "execution_count": 11,
     "metadata": {},
     "output_type": "execute_result"
    }
   ],
   "source": [
    "# Drop id column\n",
    "df = df.drop(columns='id')\n",
    "df.head()"
   ]
  },
  {
   "cell_type": "markdown",
   "metadata": {},
   "source": [
    "# Additional features"
   ]
  },
  {
   "cell_type": "code",
   "execution_count": 12,
   "metadata": {},
   "outputs": [
    {
     "data": {
      "text/html": [
       "<div>\n",
       "<style scoped>\n",
       "    .dataframe tbody tr th:only-of-type {\n",
       "        vertical-align: middle;\n",
       "    }\n",
       "\n",
       "    .dataframe tbody tr th {\n",
       "        vertical-align: top;\n",
       "    }\n",
       "\n",
       "    .dataframe thead th {\n",
       "        text-align: right;\n",
       "    }\n",
       "</style>\n",
       "<table border=\"1\" class=\"dataframe\">\n",
       "  <thead>\n",
       "    <tr style=\"text-align: right;\">\n",
       "      <th></th>\n",
       "      <th>id</th>\n",
       "      <th>calculatedfinishedsquarefeet</th>\n",
       "      <th>bedroomcnt</th>\n",
       "      <th>bathroomcnt</th>\n",
       "      <th>fullbathcnt</th>\n",
       "      <th>yearbuilt</th>\n",
       "      <th>regionidzip</th>\n",
       "      <th>heatingorsystemtypeid</th>\n",
       "      <th>taxvaluedollarcnt</th>\n",
       "      <th>taxamount</th>\n",
       "      <th>buildingqualitytypeid</th>\n",
       "      <th>regionidcity</th>\n",
       "    </tr>\n",
       "  </thead>\n",
       "  <tbody>\n",
       "    <tr>\n",
       "      <th>0</th>\n",
       "      <td>1248</td>\n",
       "      <td>1000.0</td>\n",
       "      <td>0.0</td>\n",
       "      <td>0.0</td>\n",
       "      <td>NaN</td>\n",
       "      <td>2002.0</td>\n",
       "      <td>97083.0</td>\n",
       "      <td>NaN</td>\n",
       "      <td>27400.0</td>\n",
       "      <td>212.46</td>\n",
       "      <td>NaN</td>\n",
       "      <td>34543.0</td>\n",
       "    </tr>\n",
       "    <tr>\n",
       "      <th>1</th>\n",
       "      <td>1772</td>\n",
       "      <td>1604.0</td>\n",
       "      <td>4.0</td>\n",
       "      <td>2.0</td>\n",
       "      <td>2.0</td>\n",
       "      <td>1950.0</td>\n",
       "      <td>96415.0</td>\n",
       "      <td>7.0</td>\n",
       "      <td>498347.0</td>\n",
       "      <td>6089.82</td>\n",
       "      <td>6.0</td>\n",
       "      <td>12447.0</td>\n",
       "    </tr>\n",
       "    <tr>\n",
       "      <th>2</th>\n",
       "      <td>2028</td>\n",
       "      <td>2384.0</td>\n",
       "      <td>3.0</td>\n",
       "      <td>3.0</td>\n",
       "      <td>3.0</td>\n",
       "      <td>1937.0</td>\n",
       "      <td>96452.0</td>\n",
       "      <td>2.0</td>\n",
       "      <td>549917.0</td>\n",
       "      <td>6679.55</td>\n",
       "      <td>8.0</td>\n",
       "      <td>12447.0</td>\n",
       "    </tr>\n",
       "    <tr>\n",
       "      <th>3</th>\n",
       "      <td>3273</td>\n",
       "      <td>1574.0</td>\n",
       "      <td>3.0</td>\n",
       "      <td>2.0</td>\n",
       "      <td>2.0</td>\n",
       "      <td>1990.0</td>\n",
       "      <td>97319.0</td>\n",
       "      <td>2.0</td>\n",
       "      <td>235272.0</td>\n",
       "      <td>3876.31</td>\n",
       "      <td>8.0</td>\n",
       "      <td>5534.0</td>\n",
       "    </tr>\n",
       "    <tr>\n",
       "      <th>4</th>\n",
       "      <td>3429</td>\n",
       "      <td>1619.0</td>\n",
       "      <td>2.0</td>\n",
       "      <td>2.0</td>\n",
       "      <td>2.0</td>\n",
       "      <td>1983.0</td>\n",
       "      <td>97329.0</td>\n",
       "      <td>2.0</td>\n",
       "      <td>340000.0</td>\n",
       "      <td>4206.15</td>\n",
       "      <td>6.0</td>\n",
       "      <td>40227.0</td>\n",
       "    </tr>\n",
       "  </tbody>\n",
       "</table>\n",
       "</div>"
      ],
      "text/plain": [
       "     id  calculatedfinishedsquarefeet  bedroomcnt  bathroomcnt  fullbathcnt  \\\n",
       "0  1248                        1000.0         0.0          0.0          NaN   \n",
       "1  1772                        1604.0         4.0          2.0          2.0   \n",
       "2  2028                        2384.0         3.0          3.0          3.0   \n",
       "3  3273                        1574.0         3.0          2.0          2.0   \n",
       "4  3429                        1619.0         2.0          2.0          2.0   \n",
       "\n",
       "   yearbuilt  regionidzip  heatingorsystemtypeid  taxvaluedollarcnt  \\\n",
       "0     2002.0      97083.0                    NaN            27400.0   \n",
       "1     1950.0      96415.0                    7.0           498347.0   \n",
       "2     1937.0      96452.0                    2.0           549917.0   \n",
       "3     1990.0      97319.0                    2.0           235272.0   \n",
       "4     1983.0      97329.0                    2.0           340000.0   \n",
       "\n",
       "   taxamount  buildingqualitytypeid  regionidcity  \n",
       "0     212.46                    NaN       34543.0  \n",
       "1    6089.82                    6.0       12447.0  \n",
       "2    6679.55                    8.0       12447.0  \n",
       "3    3876.31                    8.0        5534.0  \n",
       "4    4206.15                    6.0       40227.0  "
      ]
     },
     "execution_count": 12,
     "metadata": {},
     "output_type": "execute_result"
    }
   ],
   "source": [
    "import env\n",
    "\n",
    "def get_connection(db, username=env.username, host=env.host, password=env.password):\n",
    "    return f'mysql+pymysql://{username}:{password}@{host}/{db}'\n",
    "\n",
    "sql_test = '''SELECT prop.id, calculatedfinishedsquarefeet, bedroomcnt, bathroomcnt, fullbathcnt, yearbuilt, regionidzip, heatingorsystemtypeid, taxvaluedollarcnt, taxamount, buildingqualitytypeid, regionidcity\n",
    "FROM properties_2017 as prop\n",
    "JOIN propertylandusetype as land ON prop.propertylandusetypeid = land.propertylandusetypeid\n",
    "JOIN predictions_2017 as pred ON pred.id = prop.id \n",
    "AND (pred.transactiondate LIKE '2017-05-%%'\n",
    "OR pred.transactiondate LIKE '2017-06-%%')\n",
    "WHERE prop.propertylandusetypeid IN (260, 261, 263, 264, 266, 279);'''\n",
    "    \n",
    "df = pd.read_sql(sql_test, get_connection('zillow'))\n",
    "\n",
    "df.head()"
   ]
  },
  {
   "cell_type": "code",
   "execution_count": 13,
   "metadata": {},
   "outputs": [
    {
     "data": {
      "text/html": [
       "<div>\n",
       "<style scoped>\n",
       "    .dataframe tbody tr th:only-of-type {\n",
       "        vertical-align: middle;\n",
       "    }\n",
       "\n",
       "    .dataframe tbody tr th {\n",
       "        vertical-align: top;\n",
       "    }\n",
       "\n",
       "    .dataframe thead th {\n",
       "        text-align: right;\n",
       "    }\n",
       "</style>\n",
       "<table border=\"1\" class=\"dataframe\">\n",
       "  <thead>\n",
       "    <tr style=\"text-align: right;\">\n",
       "      <th></th>\n",
       "      <th>id</th>\n",
       "      <th>calculatedfinishedsquarefeet</th>\n",
       "      <th>bedroomcnt</th>\n",
       "      <th>bathroomcnt</th>\n",
       "      <th>fullbathcnt</th>\n",
       "      <th>yearbuilt</th>\n",
       "      <th>regionidzip</th>\n",
       "      <th>heatingorsystemtypeid</th>\n",
       "      <th>taxvaluedollarcnt</th>\n",
       "      <th>taxamount</th>\n",
       "      <th>buildingqualitytypeid</th>\n",
       "      <th>regionidcity</th>\n",
       "    </tr>\n",
       "  </thead>\n",
       "  <tbody>\n",
       "    <tr>\n",
       "      <th>count</th>\n",
       "      <td>19683.000000</td>\n",
       "      <td>19510.000000</td>\n",
       "      <td>19683.000000</td>\n",
       "      <td>19683.000000</td>\n",
       "      <td>19296.000000</td>\n",
       "      <td>19506.000000</td>\n",
       "      <td>19642.000000</td>\n",
       "      <td>14808.000000</td>\n",
       "      <td>1.953400e+04</td>\n",
       "      <td>19604.000000</td>\n",
       "      <td>14724.000000</td>\n",
       "      <td>19359.000000</td>\n",
       "    </tr>\n",
       "    <tr>\n",
       "      <th>mean</th>\n",
       "      <td>42440.900015</td>\n",
       "      <td>1740.763762</td>\n",
       "      <td>3.023370</td>\n",
       "      <td>2.176269</td>\n",
       "      <td>2.178275</td>\n",
       "      <td>1962.602943</td>\n",
       "      <td>96497.998473</td>\n",
       "      <td>4.009049</td>\n",
       "      <td>4.455571e+05</td>\n",
       "      <td>5433.700772</td>\n",
       "      <td>6.366612</td>\n",
       "      <td>36087.266646</td>\n",
       "    </tr>\n",
       "    <tr>\n",
       "      <th>std</th>\n",
       "      <td>6405.282175</td>\n",
       "      <td>944.118081</td>\n",
       "      <td>1.074486</td>\n",
       "      <td>1.023668</td>\n",
       "      <td>0.973149</td>\n",
       "      <td>23.024485</td>\n",
       "      <td>3767.574247</td>\n",
       "      <td>2.935759</td>\n",
       "      <td>6.171164e+05</td>\n",
       "      <td>7173.276288</td>\n",
       "      <td>1.715384</td>\n",
       "      <td>55069.212984</td>\n",
       "    </tr>\n",
       "    <tr>\n",
       "      <th>min</th>\n",
       "      <td>1248.000000</td>\n",
       "      <td>60.000000</td>\n",
       "      <td>0.000000</td>\n",
       "      <td>0.000000</td>\n",
       "      <td>1.000000</td>\n",
       "      <td>1862.000000</td>\n",
       "      <td>95982.000000</td>\n",
       "      <td>2.000000</td>\n",
       "      <td>1.900000e+01</td>\n",
       "      <td>10.100000</td>\n",
       "      <td>1.000000</td>\n",
       "      <td>3491.000000</td>\n",
       "    </tr>\n",
       "    <tr>\n",
       "      <th>25%</th>\n",
       "      <td>37205.500000</td>\n",
       "      <td>1176.000000</td>\n",
       "      <td>2.000000</td>\n",
       "      <td>2.000000</td>\n",
       "      <td>2.000000</td>\n",
       "      <td>1949.000000</td>\n",
       "      <td>96152.000000</td>\n",
       "      <td>2.000000</td>\n",
       "      <td>1.814800e+05</td>\n",
       "      <td>2428.667500</td>\n",
       "      <td>5.000000</td>\n",
       "      <td>12447.000000</td>\n",
       "    </tr>\n",
       "    <tr>\n",
       "      <th>50%</th>\n",
       "      <td>42445.000000</td>\n",
       "      <td>1517.000000</td>\n",
       "      <td>3.000000</td>\n",
       "      <td>2.000000</td>\n",
       "      <td>2.000000</td>\n",
       "      <td>1960.000000</td>\n",
       "      <td>96341.000000</td>\n",
       "      <td>2.000000</td>\n",
       "      <td>3.120655e+05</td>\n",
       "      <td>3927.025000</td>\n",
       "      <td>6.000000</td>\n",
       "      <td>24832.000000</td>\n",
       "    </tr>\n",
       "    <tr>\n",
       "      <th>75%</th>\n",
       "      <td>47783.500000</td>\n",
       "      <td>2032.000000</td>\n",
       "      <td>4.000000</td>\n",
       "      <td>3.000000</td>\n",
       "      <td>3.000000</td>\n",
       "      <td>1979.000000</td>\n",
       "      <td>96941.000000</td>\n",
       "      <td>7.000000</td>\n",
       "      <td>5.104338e+05</td>\n",
       "      <td>6144.365000</td>\n",
       "      <td>8.000000</td>\n",
       "      <td>46080.000000</td>\n",
       "    </tr>\n",
       "    <tr>\n",
       "      <th>max</th>\n",
       "      <td>53503.000000</td>\n",
       "      <td>26345.000000</td>\n",
       "      <td>25.000000</td>\n",
       "      <td>20.000000</td>\n",
       "      <td>20.000000</td>\n",
       "      <td>2015.000000</td>\n",
       "      <td>399675.000000</td>\n",
       "      <td>24.000000</td>\n",
       "      <td>1.912982e+07</td>\n",
       "      <td>228999.210000</td>\n",
       "      <td>12.000000</td>\n",
       "      <td>396556.000000</td>\n",
       "    </tr>\n",
       "  </tbody>\n",
       "</table>\n",
       "</div>"
      ],
      "text/plain": [
       "                 id  calculatedfinishedsquarefeet    bedroomcnt   bathroomcnt  \\\n",
       "count  19683.000000                  19510.000000  19683.000000  19683.000000   \n",
       "mean   42440.900015                   1740.763762      3.023370      2.176269   \n",
       "std     6405.282175                    944.118081      1.074486      1.023668   \n",
       "min     1248.000000                     60.000000      0.000000      0.000000   \n",
       "25%    37205.500000                   1176.000000      2.000000      2.000000   \n",
       "50%    42445.000000                   1517.000000      3.000000      2.000000   \n",
       "75%    47783.500000                   2032.000000      4.000000      3.000000   \n",
       "max    53503.000000                  26345.000000     25.000000     20.000000   \n",
       "\n",
       "        fullbathcnt     yearbuilt    regionidzip  heatingorsystemtypeid  \\\n",
       "count  19296.000000  19506.000000   19642.000000           14808.000000   \n",
       "mean       2.178275   1962.602943   96497.998473               4.009049   \n",
       "std        0.973149     23.024485    3767.574247               2.935759   \n",
       "min        1.000000   1862.000000   95982.000000               2.000000   \n",
       "25%        2.000000   1949.000000   96152.000000               2.000000   \n",
       "50%        2.000000   1960.000000   96341.000000               2.000000   \n",
       "75%        3.000000   1979.000000   96941.000000               7.000000   \n",
       "max       20.000000   2015.000000  399675.000000              24.000000   \n",
       "\n",
       "       taxvaluedollarcnt      taxamount  buildingqualitytypeid   regionidcity  \n",
       "count       1.953400e+04   19604.000000           14724.000000   19359.000000  \n",
       "mean        4.455571e+05    5433.700772               6.366612   36087.266646  \n",
       "std         6.171164e+05    7173.276288               1.715384   55069.212984  \n",
       "min         1.900000e+01      10.100000               1.000000    3491.000000  \n",
       "25%         1.814800e+05    2428.667500               5.000000   12447.000000  \n",
       "50%         3.120655e+05    3927.025000               6.000000   24832.000000  \n",
       "75%         5.104338e+05    6144.365000               8.000000   46080.000000  \n",
       "max         1.912982e+07  228999.210000              12.000000  396556.000000  "
      ]
     },
     "execution_count": 13,
     "metadata": {},
     "output_type": "execute_result"
    }
   ],
   "source": [
    "df.describe()"
   ]
  },
  {
   "cell_type": "code",
   "execution_count": 14,
   "metadata": {},
   "outputs": [
    {
     "data": {
      "text/plain": [
       "id                                int64\n",
       "calculatedfinishedsquarefeet    float64\n",
       "bedroomcnt                      float64\n",
       "bathroomcnt                     float64\n",
       "fullbathcnt                     float64\n",
       "yearbuilt                       float64\n",
       "regionidzip                     float64\n",
       "heatingorsystemtypeid           float64\n",
       "taxvaluedollarcnt               float64\n",
       "taxamount                       float64\n",
       "buildingqualitytypeid           float64\n",
       "regionidcity                    float64\n",
       "dtype: object"
      ]
     },
     "execution_count": 14,
     "metadata": {},
     "output_type": "execute_result"
    }
   ],
   "source": [
    "df.dtypes"
   ]
  },
  {
   "cell_type": "code",
   "execution_count": 15,
   "metadata": {},
   "outputs": [
    {
     "data": {
      "text/plain": [
       "(19683, 12)"
      ]
     },
     "execution_count": 15,
     "metadata": {},
     "output_type": "execute_result"
    }
   ],
   "source": [
    "df.shape"
   ]
  },
  {
   "cell_type": "code",
   "execution_count": 16,
   "metadata": {},
   "outputs": [
    {
     "data": {
      "text/plain": [
       "id                                 0\n",
       "calculatedfinishedsquarefeet     173\n",
       "bedroomcnt                         0\n",
       "bathroomcnt                        0\n",
       "fullbathcnt                      387\n",
       "yearbuilt                        177\n",
       "regionidzip                       41\n",
       "heatingorsystemtypeid           4875\n",
       "taxvaluedollarcnt                149\n",
       "taxamount                         79\n",
       "buildingqualitytypeid           4959\n",
       "regionidcity                     324\n",
       "dtype: int64"
      ]
     },
     "execution_count": 16,
     "metadata": {},
     "output_type": "execute_result"
    }
   ],
   "source": [
    "df.isnull().sum()"
   ]
  },
  {
   "cell_type": "code",
   "execution_count": 17,
   "metadata": {},
   "outputs": [],
   "source": [
    "df = df.dropna()"
   ]
  },
  {
   "cell_type": "code",
   "execution_count": 18,
   "metadata": {},
   "outputs": [
    {
     "data": {
      "text/plain": [
       "id                              0\n",
       "calculatedfinishedsquarefeet    0\n",
       "bedroomcnt                      0\n",
       "bathroomcnt                     0\n",
       "fullbathcnt                     0\n",
       "yearbuilt                       0\n",
       "regionidzip                     0\n",
       "heatingorsystemtypeid           0\n",
       "taxvaluedollarcnt               0\n",
       "taxamount                       0\n",
       "buildingqualitytypeid           0\n",
       "regionidcity                    0\n",
       "dtype: int64"
      ]
     },
     "execution_count": 18,
     "metadata": {},
     "output_type": "execute_result"
    }
   ],
   "source": [
    "df.isnull().sum()"
   ]
  },
  {
   "cell_type": "code",
   "execution_count": 19,
   "metadata": {},
   "outputs": [
    {
     "data": {
      "text/plain": [
       "(14233, 12)"
      ]
     },
     "execution_count": 19,
     "metadata": {},
     "output_type": "execute_result"
    }
   ],
   "source": [
    "df.shape"
   ]
  },
  {
   "cell_type": "code",
   "execution_count": 20,
   "metadata": {},
   "outputs": [],
   "source": [
    "df = df.rename(columns = {'calculatedfinishedsquarefeet':'sqft'})\n",
    "df = df.rename(columns = {'bedroomcnt':'bedroom_count'})\n",
    "df = df.rename(columns = {'bathroomcnt':'bathroom_count'})\n",
    "df = df.rename(columns = {'taxvaluedollarcnt':'tax_value'})\n",
    "df = df.rename(columns = {'regionidzip':'zip'})\n",
    "df = df.rename(columns = {'heatingorsystemtypeid':'heating'})\n",
    "\n",
    "df = df.drop(columns='id')"
   ]
  },
  {
   "cell_type": "code",
   "execution_count": 21,
   "metadata": {},
   "outputs": [
    {
     "data": {
      "text/html": [
       "<div>\n",
       "<style scoped>\n",
       "    .dataframe tbody tr th:only-of-type {\n",
       "        vertical-align: middle;\n",
       "    }\n",
       "\n",
       "    .dataframe tbody tr th {\n",
       "        vertical-align: top;\n",
       "    }\n",
       "\n",
       "    .dataframe thead th {\n",
       "        text-align: right;\n",
       "    }\n",
       "</style>\n",
       "<table border=\"1\" class=\"dataframe\">\n",
       "  <thead>\n",
       "    <tr style=\"text-align: right;\">\n",
       "      <th></th>\n",
       "      <th>sqft</th>\n",
       "      <th>bedroom_count</th>\n",
       "      <th>bathroom_count</th>\n",
       "      <th>fullbathcnt</th>\n",
       "      <th>yearbuilt</th>\n",
       "      <th>zip</th>\n",
       "      <th>heating</th>\n",
       "      <th>tax_value</th>\n",
       "      <th>taxamount</th>\n",
       "      <th>buildingqualitytypeid</th>\n",
       "      <th>regionidcity</th>\n",
       "    </tr>\n",
       "  </thead>\n",
       "  <tbody>\n",
       "    <tr>\n",
       "      <th>1</th>\n",
       "      <td>1604.0</td>\n",
       "      <td>4.0</td>\n",
       "      <td>2.0</td>\n",
       "      <td>2.0</td>\n",
       "      <td>1950.0</td>\n",
       "      <td>96415.0</td>\n",
       "      <td>7.0</td>\n",
       "      <td>498347.0</td>\n",
       "      <td>6089.82</td>\n",
       "      <td>6.0</td>\n",
       "      <td>12447.0</td>\n",
       "    </tr>\n",
       "    <tr>\n",
       "      <th>2</th>\n",
       "      <td>2384.0</td>\n",
       "      <td>3.0</td>\n",
       "      <td>3.0</td>\n",
       "      <td>3.0</td>\n",
       "      <td>1937.0</td>\n",
       "      <td>96452.0</td>\n",
       "      <td>2.0</td>\n",
       "      <td>549917.0</td>\n",
       "      <td>6679.55</td>\n",
       "      <td>8.0</td>\n",
       "      <td>12447.0</td>\n",
       "    </tr>\n",
       "    <tr>\n",
       "      <th>3</th>\n",
       "      <td>1574.0</td>\n",
       "      <td>3.0</td>\n",
       "      <td>2.0</td>\n",
       "      <td>2.0</td>\n",
       "      <td>1990.0</td>\n",
       "      <td>97319.0</td>\n",
       "      <td>2.0</td>\n",
       "      <td>235272.0</td>\n",
       "      <td>3876.31</td>\n",
       "      <td>8.0</td>\n",
       "      <td>5534.0</td>\n",
       "    </tr>\n",
       "    <tr>\n",
       "      <th>4</th>\n",
       "      <td>1619.0</td>\n",
       "      <td>2.0</td>\n",
       "      <td>2.0</td>\n",
       "      <td>2.0</td>\n",
       "      <td>1983.0</td>\n",
       "      <td>97329.0</td>\n",
       "      <td>2.0</td>\n",
       "      <td>340000.0</td>\n",
       "      <td>4206.15</td>\n",
       "      <td>6.0</td>\n",
       "      <td>40227.0</td>\n",
       "    </tr>\n",
       "    <tr>\n",
       "      <th>5</th>\n",
       "      <td>1936.0</td>\n",
       "      <td>3.0</td>\n",
       "      <td>3.0</td>\n",
       "      <td>3.0</td>\n",
       "      <td>1986.0</td>\n",
       "      <td>96124.0</td>\n",
       "      <td>2.0</td>\n",
       "      <td>418146.0</td>\n",
       "      <td>5278.74</td>\n",
       "      <td>8.0</td>\n",
       "      <td>33612.0</td>\n",
       "    </tr>\n",
       "  </tbody>\n",
       "</table>\n",
       "</div>"
      ],
      "text/plain": [
       "     sqft  bedroom_count  bathroom_count  fullbathcnt  yearbuilt      zip  \\\n",
       "1  1604.0            4.0             2.0          2.0     1950.0  96415.0   \n",
       "2  2384.0            3.0             3.0          3.0     1937.0  96452.0   \n",
       "3  1574.0            3.0             2.0          2.0     1990.0  97319.0   \n",
       "4  1619.0            2.0             2.0          2.0     1983.0  97329.0   \n",
       "5  1936.0            3.0             3.0          3.0     1986.0  96124.0   \n",
       "\n",
       "   heating  tax_value  taxamount  buildingqualitytypeid  regionidcity  \n",
       "1      7.0   498347.0    6089.82                    6.0       12447.0  \n",
       "2      2.0   549917.0    6679.55                    8.0       12447.0  \n",
       "3      2.0   235272.0    3876.31                    8.0        5534.0  \n",
       "4      2.0   340000.0    4206.15                    6.0       40227.0  \n",
       "5      2.0   418146.0    5278.74                    8.0       33612.0  "
      ]
     },
     "execution_count": 21,
     "metadata": {},
     "output_type": "execute_result"
    }
   ],
   "source": [
    "df.head()"
   ]
  },
  {
   "cell_type": "code",
   "execution_count": 22,
   "metadata": {},
   "outputs": [
    {
     "data": {
      "text/plain": [
       "<matplotlib.axes._subplots.AxesSubplot at 0x1a20e1ad10>"
      ]
     },
     "execution_count": 22,
     "metadata": {},
     "output_type": "execute_result"
    },
    {
     "data": {
      "image/png": "[encoded data removed]",
      "text/plain": [
       "<Figure size 432x288 with 2 Axes>"
      ]
     },
     "metadata": {
      "needs_background": "light"
     },
     "output_type": "display_data"
    }
   ],
   "source": [
    "sns.heatmap(df.corr(), cmap='Blues', annot=True)"
   ]
  },
  {
   "cell_type": "markdown",
   "metadata": {},
   "source": [
    "<b>Takeaways: </b>\n",
    "- There are some definite outliers in the dataset on the low end of square feet and tax value\n",
    "- Still not sure whether 0 bedroom/ 0 bathroom is refering to a studio apartment or some other situation\n",
    "- The features with the highest correlation with tax_value are (listed in order from highest to lowest):\n",
    "    - sqft\n",
    "    - bathroom_count\n",
    "    - fullbathcnt\n",
    "    - bedroom_count\n",
    "    - buildingqualitytypeid"
   ]
  },
  {
   "cell_type": "markdown",
   "metadata": {},
   "source": [
    "# 3. Explore"
   ]
  },
  {
   "cell_type": "markdown",
   "metadata": {},
   "source": [
    "### Continuous and Continuous Variables  "
   ]
  },
  {
   "cell_type": "code",
   "execution_count": 23,
   "metadata": {},
   "outputs": [
    {
     "data": {
      "text/plain": [
       "<seaborn.axisgrid.JointGrid at 0x1a218c72d0>"
      ]
     },
     "execution_count": 23,
     "metadata": {},
     "output_type": "execute_result"
    },
    {
     "data": {
      "image/png": "[encoded data removed]",
      "text/plain": [
       "<Figure size 432x432 with 3 Axes>"
      ]
     },
     "metadata": {
      "needs_background": "light"
     },
     "output_type": "display_data"
    }
   ],
   "source": [
    "sns.jointplot(x= 'sqft', y='tax_value', data=df)"
   ]
  },
  {
   "cell_type": "code",
   "execution_count": null,
   "metadata": {},
   "outputs": [],
   "source": [
    "sns.pairplot(df, corner=True) "
   ]
  },
  {
   "cell_type": "code",
   "execution_count": null,
   "metadata": {},
   "outputs": [],
   "source": [
    "sns.heatmap(df.corr(), cmap='Blues', annot=True)"
   ]
  },
  {
   "cell_type": "markdown",
   "metadata": {},
   "source": [
    "### Continuous and Categorical Variables"
   ]
  },
  {
   "cell_type": "code",
   "execution_count": null,
   "metadata": {},
   "outputs": [],
   "source": [
    "df.bedroom_count.value_counts().sort_index().plot.bar(title='Bedroom Count Distribution')\n",
    "plt.xlabel('# of Bedrooms')\n",
    "plt.ylabel('# of Units')\n",
    "plt.xticks(rotation=0) "
   ]
  },
  {
   "cell_type": "code",
   "execution_count": null,
   "metadata": {},
   "outputs": [],
   "source": [
    "df.bathroom_count.value_counts().sort_index().plot.bar(title='Bathroom Count Distribution')\n",
    "plt.xlabel('# of Bathrooms')\n",
    "plt.ylabel('# of Units') \n",
    "plt.xticks(rotation=0) "
   ]
  },
  {
   "cell_type": "markdown",
   "metadata": {},
   "source": [
    "### Categorical and Categorical Variables"
   ]
  },
  {
   "cell_type": "code",
   "execution_count": null,
   "metadata": {},
   "outputs": [],
   "source": [
    "sns.barplot(data=df, x='bedroom_count', y='bathroom_count')\n",
    "plt.ylim(0,25) "
   ]
  },
  {
   "cell_type": "code",
   "execution_count": null,
   "metadata": {},
   "outputs": [],
   "source": [
    "pd.crosstab(df.bedroom_count, df.bathroom_count, normalize='index') "
   ]
  },
  {
   "cell_type": "markdown",
   "metadata": {},
   "source": [
    "<b>Takeaways: </b>\n",
    "- Most homes have 3 bedrooms/ 2 baths"
   ]
  },
  {
   "cell_type": "markdown",
   "metadata": {},
   "source": [
    "### Train, Validate, and Test"
   ]
  },
  {
   "cell_type": "code",
   "execution_count": null,
   "metadata": {},
   "outputs": [],
   "source": [
    "# split into train, validate, and test sets\n",
    "train_and_validate, test = train_test_split(df, random_state=123)\n",
    "train, validate = train_test_split(train_and_validate, random_state=123)"
   ]
  },
  {
   "cell_type": "code",
   "execution_count": null,
   "metadata": {},
   "outputs": [],
   "source": [
    "# Split into X and y\n",
    "X_train = train.drop(columns='tax_value')\n",
    "y_train = train[['tax_value']]\n",
    "\n",
    "# Validate split\n",
    "X_validate = validate.drop(columns='tax_value')\n",
    "y_validate = validate[['tax_value']]\n",
    "\n",
    "# Test split\n",
    "X_test = test.drop(columns='tax_value')\n",
    "y_test = test[['tax_value']]"
   ]
  },
  {
   "cell_type": "markdown",
   "metadata": {},
   "source": [
    "### Scale Data"
   ]
  },
  {
   "cell_type": "code",
   "execution_count": null,
   "metadata": {},
   "outputs": [],
   "source": [
    "# 1. Create the Scaling Object\n",
    "scaler = sklearn.preprocessing.StandardScaler()\n",
    "\n",
    "# 2. Fit to the train data only\n",
    "scaler.fit(train.drop('tax_value', axis=1))\n",
    "\n",
    "# 3. use the object on the whole df\n",
    "# this returns an array, so we convert to df in the same line\n",
    "train_scaled = pd.DataFrame(scaler.transform(train.drop('tax_value', axis=1)))\n",
    "validate_scaled = pd.DataFrame(scaler.transform(validate.drop('tax_value', axis=1)))\n",
    "test_scaled = pd.DataFrame(scaler.transform(test.drop('tax_value', axis=1)))"
   ]
  },
  {
   "cell_type": "code",
   "execution_count": null,
   "metadata": {},
   "outputs": [],
   "source": [
    "# Train\n",
    "train_scaled.index = train.index\n",
    "train_scaled.columns = ['bath_count_scaled','bed_count_scaled','square_feet_scaled']\n",
    "train = pd.concat((train, train_scaled), axis=1)\n",
    "\n",
    "# Validate\n",
    "validate_scaled.index = validate.index\n",
    "validate_scaled.columns = ['bath_count_scaled','bed_count_scaled','square_feet_scaled']\n",
    "validate = pd.concat((validate, validate_scaled), axis=1)\n",
    "\n",
    "# Test\n",
    "test_scaled.index = test.index\n",
    "test_scaled.columns = ['bath_count_scaled','bed_count_scaled','square_feet_scaled']\n",
    "test = pd.concat((test, test_scaled), axis=1)"
   ]
  },
  {
   "cell_type": "markdown",
   "metadata": {},
   "source": [
    "### Run Tests"
   ]
  },
  {
   "cell_type": "markdown",
   "metadata": {},
   "source": [
    "- T-test \n",
    "- Correlation test"
   ]
  },
  {
   "cell_type": "code",
   "execution_count": null,
   "metadata": {},
   "outputs": [],
   "source": [
    "train.head()"
   ]
  },
  {
   "cell_type": "markdown",
   "metadata": {},
   "source": [
    "### T-test"
   ]
  },
  {
   "cell_type": "markdown",
   "metadata": {},
   "source": [
    "$H0$: The average price of homes with 5000 sq.ft. or more is equal to the average price of homes with 5000 sq.ft. or less.  \n",
    "$H1$: Homes with 5000 sq.ft. or more have higher than average tax dollar count."
   ]
  },
  {
   "cell_type": "code",
   "execution_count": null,
   "metadata": {},
   "outputs": [],
   "source": [
    "train.sqft.mean()"
   ]
  },
  {
   "cell_type": "code",
   "execution_count": null,
   "metadata": {},
   "outputs": [],
   "source": [
    "df_less_than_5000 = train[train.sqft >= 5000]\n",
    "df_greater_than_5000 = train[train.sqft > 5000]"
   ]
  },
  {
   "cell_type": "code",
   "execution_count": null,
   "metadata": {},
   "outputs": [],
   "source": [
    "a = df_less_than_5000.tax_value.mean()\n",
    "\n",
    "b = df_greater_than_5000.tax_value.mean()\n",
    "\n",
    "t, p = stats.ttest_ind(df_greater_than_5000.tax_value,\n",
    "                df_less_than_5000.tax_value)\n",
    "\n",
    "if p > a:\n",
    "    print('We Fail to Reject H0')\n",
    "else:\n",
    "    print('We Reject H0')"
   ]
  },
  {
   "cell_type": "markdown",
   "metadata": {},
   "source": [
    "$H0$: Average price of homes with more than two bathrooms is equal to the average price of homes with less than two bathrooms.    \n",
    "$H1$: Homes with more than two bathrooms have higher than average tax dollar count."
   ]
  },
  {
   "cell_type": "code",
   "execution_count": null,
   "metadata": {},
   "outputs": [],
   "source": [
    "train.bathroom_count.mean()"
   ]
  },
  {
   "cell_type": "code",
   "execution_count": null,
   "metadata": {},
   "outputs": [],
   "source": [
    "df_less_than_2_bath = train[train.bathroom_count >= 2]\n",
    "df_greater_than_2_bath = train[train.bathroom_count > 2]"
   ]
  },
  {
   "cell_type": "code",
   "execution_count": null,
   "metadata": {},
   "outputs": [],
   "source": [
    "a = df_less_than_2_bath.tax_value.mean()\n",
    "\n",
    "b = df_greater_than_2_bath.tax_value.mean()\n",
    "\n",
    "t, p = stats.ttest_ind(df_greater_than_2_bath.tax_value,\n",
    "                df_less_than_2_bath.tax_value)\n",
    "\n",
    "if p > a:\n",
    "    print('We Fail to Reject H0')\n",
    "else:\n",
    "    print('We Reject H0')"
   ]
  },
  {
   "cell_type": "markdown",
   "metadata": {},
   "source": [
    "### Correlation Test"
   ]
  },
  {
   "cell_type": "markdown",
   "metadata": {},
   "source": [
    "$H0$: There is no relationship between total house square feet and tax value   \n",
    "$H1$: There is a relationship between total house square feet and tax value"
   ]
  },
  {
   "cell_type": "code",
   "execution_count": null,
   "metadata": {},
   "outputs": [],
   "source": [
    "confidence_interval = 0.95\n",
    "alpha = 1 - confidence_interval \n",
    "t, p = stats.pearsonr(X_train.sqft, y_train.tax_value)\n",
    "\n",
    "corr, p = stats.pearsonr(train['sqft'], train['tax_value'])\n",
    "print(corr, p)\n",
    "\n",
    "if p > alpha:\n",
    "    print('We Fail to Reject H0')\n",
    "else:\n",
    "    print('We Reject H0a')"
   ]
  },
  {
   "cell_type": "markdown",
   "metadata": {},
   "source": [
    "# 4. Model"
   ]
  },
  {
   "cell_type": "markdown",
   "metadata": {},
   "source": [
    "- Develop a regression model that performs better than a baseline \n",
    "- Extablish a baseline model\n",
    "- Document various algorithms and/or hyperparameters\n",
    "- Plot the residuals\n",
    "- Compute the evaluation metrics (SSE, RMSE, and/or MSE)\n",
    "- Compare to baseline\n",
    "- Plot y by ^y\n",
    "- Create a model.py file"
   ]
  },
  {
   "cell_type": "markdown",
   "metadata": {},
   "source": [
    "### Baseline Model"
   ]
  },
  {
   "cell_type": "code",
   "execution_count": null,
   "metadata": {},
   "outputs": [],
   "source": []
  },
  {
   "cell_type": "markdown",
   "metadata": {},
   "source": [
    "# 5. Conclusions"
   ]
  },
  {
   "cell_type": "code",
   "execution_count": null,
   "metadata": {},
   "outputs": [],
   "source": []
  }
 ],
 "metadata": {
  "kernelspec": {
   "display_name": "Python 3",
   "language": "python",
   "name": "python3"
  },
  "language_info": {
   "codemirror_mode": {
    "name": "ipython",
    "version": 3
   },
   "file_extension": ".py",
   "mimetype": "text/x-python",
   "name": "python",
   "nbconvert_exporter": "python",
   "pygments_lexer": "ipython3",
   "version": "3.7.6"
  }
 },
 "nbformat": 4,
 "nbformat_minor": 4
}
