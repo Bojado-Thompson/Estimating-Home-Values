{
 "cells": [
  {
   "cell_type": "markdown",
   "metadata": {},
   "source": [
    "# 1. Acquire"
   ]
  },
  {
   "cell_type": "code",
   "execution_count": 2,
   "metadata": {},
   "outputs": [
    {
     "name": "stdout",
     "output_type": "stream",
     "text": [
      "Imports Completed.\n"
     ]
    }
   ],
   "source": [
    "# Import Python Libraries \n",
    "import pandas as pd\n",
    "import numpy as np\n",
    "import matplotlib.pyplot as plt\n",
    "import seaborn as sns\n",
    "\n",
    "# Import Acquire and Prep Files\n",
    "import Acquire\n",
    "import os \n",
    "import Prepare \n",
    "\n",
    "# Import for model object and metric functions\n",
    "import sklearn.preprocessing\n",
    "from sklearn.model_selection import train_test_split\n",
    "from sklearn.metrics import mean_squared_error, explained_variance_score\n",
    "from sklearn.linear_model import LinearRegression\n",
    "from sklearn.feature_selection import RFE\n",
    "\n",
    "# Import Warnings \n",
    "import warnings\n",
    "warnings.filterwarnings(\"ignore\")\n",
    "\n",
    "print('Imports Completed.')"
   ]
  },
  {
   "cell_type": "code",
   "execution_count": 3,
   "metadata": {},
   "outputs": [],
   "source": [
    "df = Acquire.get_mvp_home_data() "
   ]
  },
  {
   "cell_type": "code",
   "execution_count": 4,
   "metadata": {},
   "outputs": [
    {
     "data": {
      "text/html": [
       "<div>\n",
       "<style scoped>\n",
       "    .dataframe tbody tr th:only-of-type {\n",
       "        vertical-align: middle;\n",
       "    }\n",
       "\n",
       "    .dataframe tbody tr th {\n",
       "        vertical-align: top;\n",
       "    }\n",
       "\n",
       "    .dataframe thead th {\n",
       "        text-align: right;\n",
       "    }\n",
       "</style>\n",
       "<table border=\"1\" class=\"dataframe\">\n",
       "  <thead>\n",
       "    <tr style=\"text-align: right;\">\n",
       "      <th></th>\n",
       "      <th>id</th>\n",
       "      <th>calculatedfinishedsquarefeet</th>\n",
       "      <th>bedroomcnt</th>\n",
       "      <th>bathroomcnt</th>\n",
       "      <th>taxvaluedollarcnt</th>\n",
       "    </tr>\n",
       "  </thead>\n",
       "  <tbody>\n",
       "    <tr>\n",
       "      <th>0</th>\n",
       "      <td>1018</td>\n",
       "      <td>1819.0</td>\n",
       "      <td>3.0</td>\n",
       "      <td>2.0</td>\n",
       "      <td>478430.0</td>\n",
       "    </tr>\n",
       "    <tr>\n",
       "      <th>1</th>\n",
       "      <td>1248</td>\n",
       "      <td>1000.0</td>\n",
       "      <td>0.0</td>\n",
       "      <td>0.0</td>\n",
       "      <td>27400.0</td>\n",
       "    </tr>\n",
       "    <tr>\n",
       "      <th>2</th>\n",
       "      <td>1734</td>\n",
       "      <td>1503.0</td>\n",
       "      <td>2.0</td>\n",
       "      <td>2.0</td>\n",
       "      <td>171687.0</td>\n",
       "    </tr>\n",
       "    <tr>\n",
       "      <th>3</th>\n",
       "      <td>1772</td>\n",
       "      <td>1604.0</td>\n",
       "      <td>4.0</td>\n",
       "      <td>2.0</td>\n",
       "      <td>498347.0</td>\n",
       "    </tr>\n",
       "    <tr>\n",
       "      <th>4</th>\n",
       "      <td>2028</td>\n",
       "      <td>2384.0</td>\n",
       "      <td>3.0</td>\n",
       "      <td>3.0</td>\n",
       "      <td>549917.0</td>\n",
       "    </tr>\n",
       "  </tbody>\n",
       "</table>\n",
       "</div>"
      ],
      "text/plain": [
       "     id  calculatedfinishedsquarefeet  bedroomcnt  bathroomcnt  \\\n",
       "0  1018                        1819.0         3.0          2.0   \n",
       "1  1248                        1000.0         0.0          0.0   \n",
       "2  1734                        1503.0         2.0          2.0   \n",
       "3  1772                        1604.0         4.0          2.0   \n",
       "4  2028                        2384.0         3.0          3.0   \n",
       "\n",
       "   taxvaluedollarcnt  \n",
       "0           478430.0  \n",
       "1            27400.0  \n",
       "2           171687.0  \n",
       "3           498347.0  \n",
       "4           549917.0  "
      ]
     },
     "execution_count": 4,
     "metadata": {},
     "output_type": "execute_result"
    }
   ],
   "source": [
    "df.head()"
   ]
  },
  {
   "cell_type": "markdown",
   "metadata": {},
   "source": [
    "# 2. Prepare"
   ]
  },
  {
   "cell_type": "code",
   "execution_count": 5,
   "metadata": {},
   "outputs": [],
   "source": [
    "# Import libraries\n",
    "import pandas as pd\n",
    "from Acquire import get_mvp_home_data\n",
    "\n",
    "# Function to prepare the data\n",
    "def prep_zillow_df(df):\n",
    "    # Dropped null values\n",
    "    df = df.dropna()\n",
    "    return df\n",
    "\n",
    "\n",
    "# Function to split the data into train, validate, and test\n",
    "def train_test_validate(df):   \n",
    "# split into train, validate, and test sets\n",
    "    train_and_validate, test = train_test_split(df, test_size = .10, random_state=123)\n",
    "    train, validate = train_test_split(train_and_validate, test_size = .20, random_state=123)\n",
    "\n",
    "    return train, validate, test"
   ]
  },
  {
   "cell_type": "code",
   "execution_count": 5,
   "metadata": {},
   "outputs": [
    {
     "data": {
      "text/plain": [
       "(19149, 5)"
      ]
     },
     "execution_count": 5,
     "metadata": {},
     "output_type": "execute_result"
    }
   ],
   "source": [
    "df.shape"
   ]
  },
  {
   "cell_type": "code",
   "execution_count": 6,
   "metadata": {},
   "outputs": [
    {
     "data": {
      "text/html": [
       "<div>\n",
       "<style scoped>\n",
       "    .dataframe tbody tr th:only-of-type {\n",
       "        vertical-align: middle;\n",
       "    }\n",
       "\n",
       "    .dataframe tbody tr th {\n",
       "        vertical-align: top;\n",
       "    }\n",
       "\n",
       "    .dataframe thead th {\n",
       "        text-align: right;\n",
       "    }\n",
       "</style>\n",
       "<table border=\"1\" class=\"dataframe\">\n",
       "  <thead>\n",
       "    <tr style=\"text-align: right;\">\n",
       "      <th></th>\n",
       "      <th>id</th>\n",
       "      <th>calculatedfinishedsquarefeet</th>\n",
       "      <th>bedroomcnt</th>\n",
       "      <th>bathroomcnt</th>\n",
       "      <th>taxvaluedollarcnt</th>\n",
       "    </tr>\n",
       "  </thead>\n",
       "  <tbody>\n",
       "    <tr>\n",
       "      <th>count</th>\n",
       "      <td>19149.000000</td>\n",
       "      <td>18783.000000</td>\n",
       "      <td>19149.000000</td>\n",
       "      <td>19149.000000</td>\n",
       "      <td>1.884100e+04</td>\n",
       "    </tr>\n",
       "    <tr>\n",
       "      <th>mean</th>\n",
       "      <td>52465.910805</td>\n",
       "      <td>1784.874621</td>\n",
       "      <td>3.006632</td>\n",
       "      <td>2.205833</td>\n",
       "      <td>4.443516e+05</td>\n",
       "    </tr>\n",
       "    <tr>\n",
       "      <th>std</th>\n",
       "      <td>6396.665259</td>\n",
       "      <td>965.575765</td>\n",
       "      <td>1.148385</td>\n",
       "      <td>1.035924</td>\n",
       "      <td>5.547795e+05</td>\n",
       "    </tr>\n",
       "    <tr>\n",
       "      <th>min</th>\n",
       "      <td>1018.000000</td>\n",
       "      <td>60.000000</td>\n",
       "      <td>0.000000</td>\n",
       "      <td>0.000000</td>\n",
       "      <td>1.000000e+01</td>\n",
       "    </tr>\n",
       "    <tr>\n",
       "      <th>25%</th>\n",
       "      <td>47163.000000</td>\n",
       "      <td>1204.000000</td>\n",
       "      <td>2.000000</td>\n",
       "      <td>2.000000</td>\n",
       "      <td>1.925360e+05</td>\n",
       "    </tr>\n",
       "    <tr>\n",
       "      <th>50%</th>\n",
       "      <td>52742.000000</td>\n",
       "      <td>1557.000000</td>\n",
       "      <td>3.000000</td>\n",
       "      <td>2.000000</td>\n",
       "      <td>3.294930e+05</td>\n",
       "    </tr>\n",
       "    <tr>\n",
       "      <th>75%</th>\n",
       "      <td>57785.000000</td>\n",
       "      <td>2102.500000</td>\n",
       "      <td>4.000000</td>\n",
       "      <td>3.000000</td>\n",
       "      <td>5.280000e+05</td>\n",
       "    </tr>\n",
       "    <tr>\n",
       "      <th>max</th>\n",
       "      <td>62970.000000</td>\n",
       "      <td>26345.000000</td>\n",
       "      <td>10.000000</td>\n",
       "      <td>19.500000</td>\n",
       "      <td>1.717000e+07</td>\n",
       "    </tr>\n",
       "  </tbody>\n",
       "</table>\n",
       "</div>"
      ],
      "text/plain": [
       "                 id  calculatedfinishedsquarefeet    bedroomcnt   bathroomcnt  \\\n",
       "count  19149.000000                  18783.000000  19149.000000  19149.000000   \n",
       "mean   52465.910805                   1784.874621      3.006632      2.205833   \n",
       "std     6396.665259                    965.575765      1.148385      1.035924   \n",
       "min     1018.000000                     60.000000      0.000000      0.000000   \n",
       "25%    47163.000000                   1204.000000      2.000000      2.000000   \n",
       "50%    52742.000000                   1557.000000      3.000000      2.000000   \n",
       "75%    57785.000000                   2102.500000      4.000000      3.000000   \n",
       "max    62970.000000                  26345.000000     10.000000     19.500000   \n",
       "\n",
       "       taxvaluedollarcnt  \n",
       "count       1.884100e+04  \n",
       "mean        4.443516e+05  \n",
       "std         5.547795e+05  \n",
       "min         1.000000e+01  \n",
       "25%         1.925360e+05  \n",
       "50%         3.294930e+05  \n",
       "75%         5.280000e+05  \n",
       "max         1.717000e+07  "
      ]
     },
     "execution_count": 6,
     "metadata": {},
     "output_type": "execute_result"
    }
   ],
   "source": [
    "df.describe() "
   ]
  },
  {
   "cell_type": "code",
   "execution_count": 7,
   "metadata": {},
   "outputs": [
    {
     "name": "stdout",
     "output_type": "stream",
     "text": [
      "<class 'pandas.core.frame.DataFrame'>\n",
      "Int64Index: 19149 entries, 0 to 19148\n",
      "Data columns (total 5 columns):\n",
      " #   Column                        Non-Null Count  Dtype  \n",
      "---  ------                        --------------  -----  \n",
      " 0   id                            19149 non-null  int64  \n",
      " 1   calculatedfinishedsquarefeet  18783 non-null  float64\n",
      " 2   bedroomcnt                    19149 non-null  float64\n",
      " 3   bathroomcnt                   19149 non-null  float64\n",
      " 4   taxvaluedollarcnt             18841 non-null  float64\n",
      "dtypes: float64(4), int64(1)\n",
      "memory usage: 897.6 KB\n"
     ]
    }
   ],
   "source": [
    "df.info() "
   ]
  },
  {
   "cell_type": "code",
   "execution_count": 8,
   "metadata": {},
   "outputs": [
    {
     "data": {
      "text/plain": [
       "id                                0\n",
       "calculatedfinishedsquarefeet    366\n",
       "bedroomcnt                        0\n",
       "bathroomcnt                       0\n",
       "taxvaluedollarcnt               308\n",
       "dtype: int64"
      ]
     },
     "execution_count": 8,
     "metadata": {},
     "output_type": "execute_result"
    }
   ],
   "source": [
    "df.isnull().sum() "
   ]
  },
  {
   "cell_type": "code",
   "execution_count": 9,
   "metadata": {},
   "outputs": [],
   "source": [
    "df = df.dropna()"
   ]
  },
  {
   "cell_type": "code",
   "execution_count": 10,
   "metadata": {},
   "outputs": [
    {
     "data": {
      "text/plain": [
       "id                              0\n",
       "calculatedfinishedsquarefeet    0\n",
       "bedroomcnt                      0\n",
       "bathroomcnt                     0\n",
       "taxvaluedollarcnt               0\n",
       "dtype: int64"
      ]
     },
     "execution_count": 10,
     "metadata": {},
     "output_type": "execute_result"
    }
   ],
   "source": [
    "df.isnull().sum() "
   ]
  },
  {
   "cell_type": "markdown",
   "metadata": {},
   "source": [
    "<b>Takeaways: </b>\n",
    "- There are some definite outliers in the dataset on the low end of square feet and tax value\n",
    "- Still not sure whether 0 bedroom/ 0 bathroom is refering to a studio apartment or some other situation"
   ]
  },
  {
   "cell_type": "markdown",
   "metadata": {},
   "source": [
    "# 3. Explore"
   ]
  },
  {
   "cell_type": "markdown",
   "metadata": {},
   "source": [
    "### Continuous and Continuous Variables  "
   ]
  },
  {
   "cell_type": "code",
   "execution_count": 11,
   "metadata": {},
   "outputs": [
    {
     "data": {
      "text/plain": [
       "<seaborn.axisgrid.JointGrid at 0x11c813f10>"
      ]
     },
     "execution_count": 11,
     "metadata": {},
     "output_type": "execute_result"
    },
    {
     "data": {
      "image/png": "[encoded data removed]",
      "text/plain": [
       "<Figure size 432x432 with 3 Axes>"
      ]
     },
     "metadata": {
      "needs_background": "light"
     },
     "output_type": "display_data"
    }
   ],
   "source": [
    "sns.jointplot(x= 'calculatedfinishedsquarefeet', y='taxvaluedollarcnt', data=df)"
   ]
  },
  {
   "cell_type": "code",
   "execution_count": 12,
   "metadata": {},
   "outputs": [
    {
     "data": {
      "text/plain": [
       "<seaborn.axisgrid.PairGrid at 0x1a20d5e4d0>"
      ]
     },
     "execution_count": 12,
     "metadata": {},
     "output_type": "execute_result"
    },
    {
     "data": {
      "image/png": "[encoded data removed]",
      "text/plain": [
       "<Figure size 900x900 with 20 Axes>"
      ]
     },
     "metadata": {
      "needs_background": "light"
     },
     "output_type": "display_data"
    }
   ],
   "source": [
    "sns.pairplot(df, corner=True) "
   ]
  },
  {
   "cell_type": "code",
   "execution_count": 12,
   "metadata": {},
   "outputs": [
    {
     "data": {
      "text/plain": [
       "<matplotlib.axes._subplots.AxesSubplot at 0x1a18ae2150>"
      ]
     },
     "execution_count": 12,
     "metadata": {},
     "output_type": "execute_result"
    },
    {
     "data": {
      "image/png": "[encoded data removed]",
      "text/plain": [
       "<Figure size 432x288 with 2 Axes>"
      ]
     },
     "metadata": {
      "needs_background": "light"
     },
     "output_type": "display_data"
    }
   ],
   "source": [
    "sns.heatmap(df.corr(), cmap='Blues', annot=True)"
   ]
  },
  {
   "cell_type": "markdown",
   "metadata": {},
   "source": [
    "### Continuous and Categorical Variables"
   ]
  },
  {
   "cell_type": "code",
   "execution_count": 13,
   "metadata": {},
   "outputs": [
    {
     "data": {
      "text/plain": [
       "(array([ 0,  1,  2,  3,  4,  5,  6,  7,  8,  9, 10]),\n",
       " <a list of 11 Text xticklabel objects>)"
      ]
     },
     "execution_count": 13,
     "metadata": {},
     "output_type": "execute_result"
    },
    {
     "data": {
      "image/png": "[encoded data removed]",
      "text/plain": [
       "<Figure size 432x288 with 1 Axes>"
      ]
     },
     "metadata": {
      "needs_background": "light"
     },
     "output_type": "display_data"
    }
   ],
   "source": [
    "df.bedroomcnt.value_counts().sort_index().plot.bar(title='Bedroom Count Distribution')\n",
    "plt.xlabel('# of Bedrooms')\n",
    "plt.ylabel('# of Units')\n",
    "plt.xticks(rotation=0) "
   ]
  },
  {
   "cell_type": "code",
   "execution_count": 14,
   "metadata": {},
   "outputs": [
    {
     "data": {
      "text/plain": [
       "(array([ 0,  1,  2,  3,  4,  5,  6,  7,  8,  9, 10, 11, 12, 13, 14, 15, 16,\n",
       "        17, 18, 19, 20]),\n",
       " <a list of 21 Text xticklabel objects>)"
      ]
     },
     "execution_count": 14,
     "metadata": {},
     "output_type": "execute_result"
    },
    {
     "data": {
      "image/png": "[encoded data removed]",
      "text/plain": [
       "<Figure size 432x288 with 1 Axes>"
      ]
     },
     "metadata": {
      "needs_background": "light"
     },
     "output_type": "display_data"
    }
   ],
   "source": [
    "df.bathroomcnt.value_counts().sort_index().plot.bar(title='Bathroom Count Distribution')\n",
    "plt.xlabel('# of Bathrooms')\n",
    "plt.ylabel('# of Units') \n",
    "plt.xticks(rotation=0) "
   ]
  },
  {
   "cell_type": "markdown",
   "metadata": {},
   "source": [
    "### Categorical and Categorical Variables"
   ]
  },
  {
   "cell_type": "code",
   "execution_count": 15,
   "metadata": {},
   "outputs": [
    {
     "data": {
      "text/plain": [
       "(0, 25)"
      ]
     },
     "execution_count": 15,
     "metadata": {},
     "output_type": "execute_result"
    },
    {
     "data": {
      "image/png": "[encoded data removed]",
      "text/plain": [
       "<Figure size 432x288 with 1 Axes>"
      ]
     },
     "metadata": {
      "needs_background": "light"
     },
     "output_type": "display_data"
    }
   ],
   "source": [
    "sns.barplot(data=df, x='bedroomcnt', y='bathroomcnt')\n",
    "plt.ylim(0,25) "
   ]
  },
  {
   "cell_type": "code",
   "execution_count": 16,
   "metadata": {},
   "outputs": [
    {
     "data": {
      "text/html": [
       "<div>\n",
       "<style scoped>\n",
       "    .dataframe tbody tr th:only-of-type {\n",
       "        vertical-align: middle;\n",
       "    }\n",
       "\n",
       "    .dataframe tbody tr th {\n",
       "        vertical-align: top;\n",
       "    }\n",
       "\n",
       "    .dataframe thead th {\n",
       "        text-align: right;\n",
       "    }\n",
       "</style>\n",
       "<table border=\"1\" class=\"dataframe\">\n",
       "  <thead>\n",
       "    <tr style=\"text-align: right;\">\n",
       "      <th>bathroomcnt</th>\n",
       "      <th>0.0</th>\n",
       "      <th>1.0</th>\n",
       "      <th>1.5</th>\n",
       "      <th>2.0</th>\n",
       "      <th>2.5</th>\n",
       "      <th>3.0</th>\n",
       "      <th>3.5</th>\n",
       "      <th>4.0</th>\n",
       "      <th>4.5</th>\n",
       "      <th>5.0</th>\n",
       "      <th>...</th>\n",
       "      <th>6.0</th>\n",
       "      <th>6.5</th>\n",
       "      <th>7.0</th>\n",
       "      <th>7.5</th>\n",
       "      <th>8.0</th>\n",
       "      <th>8.5</th>\n",
       "      <th>9.0</th>\n",
       "      <th>10.0</th>\n",
       "      <th>11.0</th>\n",
       "      <th>19.5</th>\n",
       "    </tr>\n",
       "    <tr>\n",
       "      <th>bedroomcnt</th>\n",
       "      <th></th>\n",
       "      <th></th>\n",
       "      <th></th>\n",
       "      <th></th>\n",
       "      <th></th>\n",
       "      <th></th>\n",
       "      <th></th>\n",
       "      <th></th>\n",
       "      <th></th>\n",
       "      <th></th>\n",
       "      <th></th>\n",
       "      <th></th>\n",
       "      <th></th>\n",
       "      <th></th>\n",
       "      <th></th>\n",
       "      <th></th>\n",
       "      <th></th>\n",
       "      <th></th>\n",
       "      <th></th>\n",
       "      <th></th>\n",
       "      <th></th>\n",
       "    </tr>\n",
       "  </thead>\n",
       "  <tbody>\n",
       "    <tr>\n",
       "      <th>0.0</th>\n",
       "      <td>0.650407</td>\n",
       "      <td>0.308943</td>\n",
       "      <td>0.000000</td>\n",
       "      <td>0.040650</td>\n",
       "      <td>0.000000</td>\n",
       "      <td>0.000000</td>\n",
       "      <td>0.000000</td>\n",
       "      <td>0.000000</td>\n",
       "      <td>0.000000</td>\n",
       "      <td>0.000000</td>\n",
       "      <td>...</td>\n",
       "      <td>0.000000</td>\n",
       "      <td>0.000000</td>\n",
       "      <td>0.000000</td>\n",
       "      <td>0.000000</td>\n",
       "      <td>0.000000</td>\n",
       "      <td>0.000000</td>\n",
       "      <td>0.000000</td>\n",
       "      <td>0.000000</td>\n",
       "      <td>0.000000</td>\n",
       "      <td>0.0</td>\n",
       "    </tr>\n",
       "    <tr>\n",
       "      <th>1.0</th>\n",
       "      <td>0.000000</td>\n",
       "      <td>0.831405</td>\n",
       "      <td>0.021488</td>\n",
       "      <td>0.133884</td>\n",
       "      <td>0.006612</td>\n",
       "      <td>0.006612</td>\n",
       "      <td>0.000000</td>\n",
       "      <td>0.000000</td>\n",
       "      <td>0.000000</td>\n",
       "      <td>0.000000</td>\n",
       "      <td>...</td>\n",
       "      <td>0.000000</td>\n",
       "      <td>0.000000</td>\n",
       "      <td>0.000000</td>\n",
       "      <td>0.000000</td>\n",
       "      <td>0.000000</td>\n",
       "      <td>0.000000</td>\n",
       "      <td>0.000000</td>\n",
       "      <td>0.000000</td>\n",
       "      <td>0.000000</td>\n",
       "      <td>0.0</td>\n",
       "    </tr>\n",
       "    <tr>\n",
       "      <th>2.0</th>\n",
       "      <td>0.000248</td>\n",
       "      <td>0.356912</td>\n",
       "      <td>0.032018</td>\n",
       "      <td>0.435592</td>\n",
       "      <td>0.063788</td>\n",
       "      <td>0.107471</td>\n",
       "      <td>0.001737</td>\n",
       "      <td>0.001986</td>\n",
       "      <td>0.000000</td>\n",
       "      <td>0.000248</td>\n",
       "      <td>...</td>\n",
       "      <td>0.000000</td>\n",
       "      <td>0.000000</td>\n",
       "      <td>0.000000</td>\n",
       "      <td>0.000000</td>\n",
       "      <td>0.000000</td>\n",
       "      <td>0.000000</td>\n",
       "      <td>0.000000</td>\n",
       "      <td>0.000000</td>\n",
       "      <td>0.000000</td>\n",
       "      <td>0.0</td>\n",
       "    </tr>\n",
       "    <tr>\n",
       "      <th>3.0</th>\n",
       "      <td>0.000130</td>\n",
       "      <td>0.131220</td>\n",
       "      <td>0.018319</td>\n",
       "      <td>0.527738</td>\n",
       "      <td>0.114980</td>\n",
       "      <td>0.181499</td>\n",
       "      <td>0.009874</td>\n",
       "      <td>0.012732</td>\n",
       "      <td>0.001559</td>\n",
       "      <td>0.001819</td>\n",
       "      <td>...</td>\n",
       "      <td>0.000130</td>\n",
       "      <td>0.000000</td>\n",
       "      <td>0.000000</td>\n",
       "      <td>0.000000</td>\n",
       "      <td>0.000000</td>\n",
       "      <td>0.000000</td>\n",
       "      <td>0.000000</td>\n",
       "      <td>0.000000</td>\n",
       "      <td>0.000000</td>\n",
       "      <td>0.0</td>\n",
       "    </tr>\n",
       "    <tr>\n",
       "      <th>4.0</th>\n",
       "      <td>0.000644</td>\n",
       "      <td>0.009225</td>\n",
       "      <td>0.006651</td>\n",
       "      <td>0.368161</td>\n",
       "      <td>0.114997</td>\n",
       "      <td>0.371594</td>\n",
       "      <td>0.029822</td>\n",
       "      <td>0.059000</td>\n",
       "      <td>0.015876</td>\n",
       "      <td>0.016949</td>\n",
       "      <td>...</td>\n",
       "      <td>0.002575</td>\n",
       "      <td>0.000000</td>\n",
       "      <td>0.001073</td>\n",
       "      <td>0.000215</td>\n",
       "      <td>0.000215</td>\n",
       "      <td>0.000000</td>\n",
       "      <td>0.000000</td>\n",
       "      <td>0.000000</td>\n",
       "      <td>0.000000</td>\n",
       "      <td>0.0</td>\n",
       "    </tr>\n",
       "    <tr>\n",
       "      <th>5.0</th>\n",
       "      <td>0.000876</td>\n",
       "      <td>0.006135</td>\n",
       "      <td>0.003506</td>\n",
       "      <td>0.094654</td>\n",
       "      <td>0.038563</td>\n",
       "      <td>0.417178</td>\n",
       "      <td>0.041192</td>\n",
       "      <td>0.164768</td>\n",
       "      <td>0.058720</td>\n",
       "      <td>0.088519</td>\n",
       "      <td>...</td>\n",
       "      <td>0.031551</td>\n",
       "      <td>0.002629</td>\n",
       "      <td>0.010517</td>\n",
       "      <td>0.001753</td>\n",
       "      <td>0.001753</td>\n",
       "      <td>0.000876</td>\n",
       "      <td>0.002629</td>\n",
       "      <td>0.000876</td>\n",
       "      <td>0.000000</td>\n",
       "      <td>0.0</td>\n",
       "    </tr>\n",
       "    <tr>\n",
       "      <th>6.0</th>\n",
       "      <td>0.000000</td>\n",
       "      <td>0.005319</td>\n",
       "      <td>0.000000</td>\n",
       "      <td>0.047872</td>\n",
       "      <td>0.010638</td>\n",
       "      <td>0.218085</td>\n",
       "      <td>0.005319</td>\n",
       "      <td>0.260638</td>\n",
       "      <td>0.037234</td>\n",
       "      <td>0.148936</td>\n",
       "      <td>...</td>\n",
       "      <td>0.085106</td>\n",
       "      <td>0.015957</td>\n",
       "      <td>0.085106</td>\n",
       "      <td>0.005319</td>\n",
       "      <td>0.015957</td>\n",
       "      <td>0.005319</td>\n",
       "      <td>0.010638</td>\n",
       "      <td>0.010638</td>\n",
       "      <td>0.000000</td>\n",
       "      <td>0.0</td>\n",
       "    </tr>\n",
       "    <tr>\n",
       "      <th>7.0</th>\n",
       "      <td>0.000000</td>\n",
       "      <td>0.000000</td>\n",
       "      <td>0.000000</td>\n",
       "      <td>0.000000</td>\n",
       "      <td>0.027027</td>\n",
       "      <td>0.081081</td>\n",
       "      <td>0.027027</td>\n",
       "      <td>0.297297</td>\n",
       "      <td>0.027027</td>\n",
       "      <td>0.216216</td>\n",
       "      <td>...</td>\n",
       "      <td>0.027027</td>\n",
       "      <td>0.027027</td>\n",
       "      <td>0.081081</td>\n",
       "      <td>0.000000</td>\n",
       "      <td>0.054054</td>\n",
       "      <td>0.000000</td>\n",
       "      <td>0.054054</td>\n",
       "      <td>0.054054</td>\n",
       "      <td>0.027027</td>\n",
       "      <td>0.0</td>\n",
       "    </tr>\n",
       "    <tr>\n",
       "      <th>8.0</th>\n",
       "      <td>0.000000</td>\n",
       "      <td>0.000000</td>\n",
       "      <td>0.000000</td>\n",
       "      <td>0.000000</td>\n",
       "      <td>0.000000</td>\n",
       "      <td>0.000000</td>\n",
       "      <td>0.000000</td>\n",
       "      <td>0.000000</td>\n",
       "      <td>0.000000</td>\n",
       "      <td>0.000000</td>\n",
       "      <td>...</td>\n",
       "      <td>0.400000</td>\n",
       "      <td>0.000000</td>\n",
       "      <td>0.400000</td>\n",
       "      <td>0.000000</td>\n",
       "      <td>0.200000</td>\n",
       "      <td>0.000000</td>\n",
       "      <td>0.000000</td>\n",
       "      <td>0.000000</td>\n",
       "      <td>0.000000</td>\n",
       "      <td>0.0</td>\n",
       "    </tr>\n",
       "    <tr>\n",
       "      <th>9.0</th>\n",
       "      <td>0.000000</td>\n",
       "      <td>0.000000</td>\n",
       "      <td>0.000000</td>\n",
       "      <td>0.000000</td>\n",
       "      <td>0.000000</td>\n",
       "      <td>0.000000</td>\n",
       "      <td>0.000000</td>\n",
       "      <td>0.666667</td>\n",
       "      <td>0.000000</td>\n",
       "      <td>0.000000</td>\n",
       "      <td>...</td>\n",
       "      <td>0.000000</td>\n",
       "      <td>0.000000</td>\n",
       "      <td>0.000000</td>\n",
       "      <td>0.000000</td>\n",
       "      <td>0.000000</td>\n",
       "      <td>0.000000</td>\n",
       "      <td>0.000000</td>\n",
       "      <td>0.333333</td>\n",
       "      <td>0.000000</td>\n",
       "      <td>0.0</td>\n",
       "    </tr>\n",
       "    <tr>\n",
       "      <th>10.0</th>\n",
       "      <td>0.000000</td>\n",
       "      <td>0.000000</td>\n",
       "      <td>0.000000</td>\n",
       "      <td>0.000000</td>\n",
       "      <td>0.000000</td>\n",
       "      <td>0.000000</td>\n",
       "      <td>0.000000</td>\n",
       "      <td>0.000000</td>\n",
       "      <td>0.000000</td>\n",
       "      <td>0.000000</td>\n",
       "      <td>...</td>\n",
       "      <td>0.000000</td>\n",
       "      <td>0.000000</td>\n",
       "      <td>0.000000</td>\n",
       "      <td>0.000000</td>\n",
       "      <td>0.000000</td>\n",
       "      <td>0.000000</td>\n",
       "      <td>0.000000</td>\n",
       "      <td>0.000000</td>\n",
       "      <td>0.000000</td>\n",
       "      <td>1.0</td>\n",
       "    </tr>\n",
       "  </tbody>\n",
       "</table>\n",
       "<p>11 rows × 21 columns</p>\n",
       "</div>"
      ],
      "text/plain": [
       "bathroomcnt      0.0       1.0       1.5       2.0       2.5       3.0   \\\n",
       "bedroomcnt                                                                \n",
       "0.0          0.650407  0.308943  0.000000  0.040650  0.000000  0.000000   \n",
       "1.0          0.000000  0.831405  0.021488  0.133884  0.006612  0.006612   \n",
       "2.0          0.000248  0.356912  0.032018  0.435592  0.063788  0.107471   \n",
       "3.0          0.000130  0.131220  0.018319  0.527738  0.114980  0.181499   \n",
       "4.0          0.000644  0.009225  0.006651  0.368161  0.114997  0.371594   \n",
       "5.0          0.000876  0.006135  0.003506  0.094654  0.038563  0.417178   \n",
       "6.0          0.000000  0.005319  0.000000  0.047872  0.010638  0.218085   \n",
       "7.0          0.000000  0.000000  0.000000  0.000000  0.027027  0.081081   \n",
       "8.0          0.000000  0.000000  0.000000  0.000000  0.000000  0.000000   \n",
       "9.0          0.000000  0.000000  0.000000  0.000000  0.000000  0.000000   \n",
       "10.0         0.000000  0.000000  0.000000  0.000000  0.000000  0.000000   \n",
       "\n",
       "bathroomcnt      3.5       4.0       4.5       5.0   ...      6.0       6.5   \\\n",
       "bedroomcnt                                           ...                       \n",
       "0.0          0.000000  0.000000  0.000000  0.000000  ...  0.000000  0.000000   \n",
       "1.0          0.000000  0.000000  0.000000  0.000000  ...  0.000000  0.000000   \n",
       "2.0          0.001737  0.001986  0.000000  0.000248  ...  0.000000  0.000000   \n",
       "3.0          0.009874  0.012732  0.001559  0.001819  ...  0.000130  0.000000   \n",
       "4.0          0.029822  0.059000  0.015876  0.016949  ...  0.002575  0.000000   \n",
       "5.0          0.041192  0.164768  0.058720  0.088519  ...  0.031551  0.002629   \n",
       "6.0          0.005319  0.260638  0.037234  0.148936  ...  0.085106  0.015957   \n",
       "7.0          0.027027  0.297297  0.027027  0.216216  ...  0.027027  0.027027   \n",
       "8.0          0.000000  0.000000  0.000000  0.000000  ...  0.400000  0.000000   \n",
       "9.0          0.000000  0.666667  0.000000  0.000000  ...  0.000000  0.000000   \n",
       "10.0         0.000000  0.000000  0.000000  0.000000  ...  0.000000  0.000000   \n",
       "\n",
       "bathroomcnt      7.0       7.5       8.0       8.5       9.0       10.0  \\\n",
       "bedroomcnt                                                                \n",
       "0.0          0.000000  0.000000  0.000000  0.000000  0.000000  0.000000   \n",
       "1.0          0.000000  0.000000  0.000000  0.000000  0.000000  0.000000   \n",
       "2.0          0.000000  0.000000  0.000000  0.000000  0.000000  0.000000   \n",
       "3.0          0.000000  0.000000  0.000000  0.000000  0.000000  0.000000   \n",
       "4.0          0.001073  0.000215  0.000215  0.000000  0.000000  0.000000   \n",
       "5.0          0.010517  0.001753  0.001753  0.000876  0.002629  0.000876   \n",
       "6.0          0.085106  0.005319  0.015957  0.005319  0.010638  0.010638   \n",
       "7.0          0.081081  0.000000  0.054054  0.000000  0.054054  0.054054   \n",
       "8.0          0.400000  0.000000  0.200000  0.000000  0.000000  0.000000   \n",
       "9.0          0.000000  0.000000  0.000000  0.000000  0.000000  0.333333   \n",
       "10.0         0.000000  0.000000  0.000000  0.000000  0.000000  0.000000   \n",
       "\n",
       "bathroomcnt      11.0  19.5  \n",
       "bedroomcnt                   \n",
       "0.0          0.000000   0.0  \n",
       "1.0          0.000000   0.0  \n",
       "2.0          0.000000   0.0  \n",
       "3.0          0.000000   0.0  \n",
       "4.0          0.000000   0.0  \n",
       "5.0          0.000000   0.0  \n",
       "6.0          0.000000   0.0  \n",
       "7.0          0.027027   0.0  \n",
       "8.0          0.000000   0.0  \n",
       "9.0          0.000000   0.0  \n",
       "10.0         0.000000   1.0  \n",
       "\n",
       "[11 rows x 21 columns]"
      ]
     },
     "execution_count": 16,
     "metadata": {},
     "output_type": "execute_result"
    }
   ],
   "source": [
    "pd.crosstab(df.bedroomcnt, df.bathroomcnt, normalize='index') "
   ]
  },
  {
   "cell_type": "markdown",
   "metadata": {},
   "source": [
    "<b>Takeaways: </b>\n",
    "- What independent variables are correlated with the dependent? \n",
    "- Which independent variables are correlated with other independent variables?"
   ]
  },
  {
   "cell_type": "markdown",
   "metadata": {},
   "source": [
    "### Scale Data"
   ]
  },
  {
   "cell_type": "code",
   "execution_count": null,
   "metadata": {},
   "outputs": [],
   "source": []
  },
  {
   "cell_type": "markdown",
   "metadata": {},
   "source": [
    "### Train, Validate, and Test"
   ]
  },
  {
   "cell_type": "code",
   "execution_count": null,
   "metadata": {},
   "outputs": [],
   "source": [
    "# split into train, validate, and test sets\n",
    "train_and_validate, test = train_test_split(df, random_state=123)\n",
    "train, validate = train_test_split(train_and_validate, random_state=123)"
   ]
  },
  {
   "cell_type": "code",
   "execution_count": null,
   "metadata": {},
   "outputs": [],
   "source": [
    "# Split into X and y\n",
    "X_train = train.drop(columns='taxvaluedollarcnt')\n",
    "y_train = train[['taxvaluedollarcnt']]\n",
    "\n",
    "# Validate split\n",
    "X_validate = validate.drop(columns='taxvaluedollarcnt')\n",
    "y_validate = validate[['taxvaluedollarcnt']]\n",
    "\n",
    "# Test split\n",
    "X_test = test.drop(columns='taxvaluedollarcnt')\n",
    "y_test = test[['taxvaluedollarcnt']]"
   ]
  },
  {
   "cell_type": "markdown",
   "metadata": {},
   "source": [
    "### Run Tests"
   ]
  },
  {
   "cell_type": "markdown",
   "metadata": {},
   "source": [
    "- T-test \n",
    "- Correlation test"
   ]
  },
  {
   "cell_type": "markdown",
   "metadata": {},
   "source": [
    "### T-test"
   ]
  },
  {
   "cell_type": "code",
   "execution_count": null,
   "metadata": {},
   "outputs": [],
   "source": []
  },
  {
   "cell_type": "markdown",
   "metadata": {},
   "source": [
    "### Correlation Test"
   ]
  },
  {
   "cell_type": "code",
   "execution_count": null,
   "metadata": {},
   "outputs": [],
   "source": []
  },
  {
   "cell_type": "markdown",
   "metadata": {},
   "source": [
    "# 4. Model"
   ]
  },
  {
   "cell_type": "markdown",
   "metadata": {},
   "source": [
    "- Develop a regression model that performs better than a baseline \n",
    "- Extablish a baseline model\n",
    "- Document various algorithms and/or hyperparameters\n",
    "- Plot the residuals\n",
    "- Compute the evaluation metrics (SSE, RMSE, and/or MSE)\n",
    "- Compare to baseline\n",
    "- Plot y by ^y\n",
    "- Create a model.py file"
   ]
  },
  {
   "cell_type": "markdown",
   "metadata": {},
   "source": [
    "### Baseline Model"
   ]
  },
  {
   "cell_type": "code",
   "execution_count": null,
   "metadata": {},
   "outputs": [],
   "source": []
  },
  {
   "cell_type": "code",
   "execution_count": null,
   "metadata": {},
   "outputs": [],
   "source": []
  },
  {
   "cell_type": "code",
   "execution_count": null,
   "metadata": {},
   "outputs": [],
   "source": []
  },
  {
   "cell_type": "markdown",
   "metadata": {},
   "source": [
    "# 5. Conclusions"
   ]
  },
  {
   "cell_type": "code",
   "execution_count": null,
   "metadata": {},
   "outputs": [],
   "source": []
  },
  {
   "cell_type": "code",
   "execution_count": null,
   "metadata": {},
   "outputs": [],
   "source": []
  },
  {
   "cell_type": "code",
   "execution_count": null,
   "metadata": {},
   "outputs": [],
   "source": []
  },
  {
   "cell_type": "code",
   "execution_count": null,
   "metadata": {},
   "outputs": [],
   "source": []
  },
  {
   "cell_type": "code",
   "execution_count": null,
   "metadata": {},
   "outputs": [],
   "source": []
  }
 ],
 "metadata": {
  "kernelspec": {
   "display_name": "Python 3",
   "language": "python",
   "name": "python3"
  },
  "language_info": {
   "codemirror_mode": {
    "name": "ipython",
    "version": 3
   },
   "file_extension": ".py",
   "mimetype": "text/x-python",
   "name": "python",
   "nbconvert_exporter": "python",
   "pygments_lexer": "ipython3",
   "version": "3.7.6"
  }
 },
 "nbformat": 4,
 "nbformat_minor": 4
}
