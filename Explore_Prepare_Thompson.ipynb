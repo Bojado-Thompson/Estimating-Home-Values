{
 "cells": [
  {
   "cell_type": "markdown",
   "metadata": {},
   "source": [
    "# Acquire"
   ]
  },
  {
   "cell_type": "code",
   "execution_count": 1,
   "metadata": {},
   "outputs": [],
   "source": [
    "import Acquire\n",
    "\n",
    "import pandas as pd\n",
    "import numpy as np\n",
    "import matplotlib.pyplot as plt\n",
    "import seaborn as sns\n",
    "\n",
    "import sklearn.preprocessing"
   ]
  },
  {
   "cell_type": "code",
   "execution_count": 2,
   "metadata": {},
   "outputs": [],
   "source": [
    "df = Acquire.get_mvp_home_data()"
   ]
  },
  {
   "cell_type": "code",
   "execution_count": 3,
   "metadata": {},
   "outputs": [],
   "source": [
    "df = df.drop('id',axis=1)"
   ]
  },
  {
   "cell_type": "code",
   "execution_count": 4,
   "metadata": {},
   "outputs": [],
   "source": [
    "df = df.dropna(how='any',axis=0) "
   ]
  },
  {
   "cell_type": "code",
   "execution_count": 5,
   "metadata": {},
   "outputs": [
    {
     "data": {
      "text/plain": [
       "calculatedfinishedsquarefeet    0\n",
       "bedroomcnt                      0\n",
       "bathroomcnt                     0\n",
       "taxvaluedollarcnt               0\n",
       "dtype: int64"
      ]
     },
     "execution_count": 5,
     "metadata": {},
     "output_type": "execute_result"
    }
   ],
   "source": [
    "df.isnull().sum()"
   ]
  },
  {
   "cell_type": "code",
   "execution_count": 6,
   "metadata": {},
   "outputs": [
    {
     "data": {
      "text/html": [
       "<div>\n",
       "<style scoped>\n",
       "    .dataframe tbody tr th:only-of-type {\n",
       "        vertical-align: middle;\n",
       "    }\n",
       "\n",
       "    .dataframe tbody tr th {\n",
       "        vertical-align: top;\n",
       "    }\n",
       "\n",
       "    .dataframe thead th {\n",
       "        text-align: right;\n",
       "    }\n",
       "</style>\n",
       "<table border=\"1\" class=\"dataframe\">\n",
       "  <thead>\n",
       "    <tr style=\"text-align: right;\">\n",
       "      <th></th>\n",
       "      <th>calculatedfinishedsquarefeet</th>\n",
       "      <th>bedroomcnt</th>\n",
       "      <th>bathroomcnt</th>\n",
       "      <th>taxvaluedollarcnt</th>\n",
       "    </tr>\n",
       "  </thead>\n",
       "  <tbody>\n",
       "    <tr>\n",
       "      <th>0</th>\n",
       "      <td>1819.0</td>\n",
       "      <td>3.0</td>\n",
       "      <td>2.0</td>\n",
       "      <td>478430.0</td>\n",
       "    </tr>\n",
       "    <tr>\n",
       "      <th>1</th>\n",
       "      <td>1000.0</td>\n",
       "      <td>0.0</td>\n",
       "      <td>0.0</td>\n",
       "      <td>27400.0</td>\n",
       "    </tr>\n",
       "    <tr>\n",
       "      <th>2</th>\n",
       "      <td>1503.0</td>\n",
       "      <td>2.0</td>\n",
       "      <td>2.0</td>\n",
       "      <td>171687.0</td>\n",
       "    </tr>\n",
       "    <tr>\n",
       "      <th>3</th>\n",
       "      <td>1604.0</td>\n",
       "      <td>4.0</td>\n",
       "      <td>2.0</td>\n",
       "      <td>498347.0</td>\n",
       "    </tr>\n",
       "    <tr>\n",
       "      <th>4</th>\n",
       "      <td>2384.0</td>\n",
       "      <td>3.0</td>\n",
       "      <td>3.0</td>\n",
       "      <td>549917.0</td>\n",
       "    </tr>\n",
       "  </tbody>\n",
       "</table>\n",
       "</div>"
      ],
      "text/plain": [
       "   calculatedfinishedsquarefeet  bedroomcnt  bathroomcnt  taxvaluedollarcnt\n",
       "0                        1819.0         3.0          2.0           478430.0\n",
       "1                        1000.0         0.0          0.0            27400.0\n",
       "2                        1503.0         2.0          2.0           171687.0\n",
       "3                        1604.0         4.0          2.0           498347.0\n",
       "4                        2384.0         3.0          3.0           549917.0"
      ]
     },
     "execution_count": 6,
     "metadata": {},
     "output_type": "execute_result"
    }
   ],
   "source": [
    "df.head()"
   ]
  },
  {
   "cell_type": "code",
   "execution_count": 7,
   "metadata": {},
   "outputs": [
    {
     "name": "stdout",
     "output_type": "stream",
     "text": [
      "<class 'pandas.core.frame.DataFrame'>\n",
      "Int64Index: 18490 entries, 0 to 19148\n",
      "Data columns (total 4 columns):\n",
      " #   Column                        Non-Null Count  Dtype  \n",
      "---  ------                        --------------  -----  \n",
      " 0   calculatedfinishedsquarefeet  18490 non-null  float64\n",
      " 1   bedroomcnt                    18490 non-null  float64\n",
      " 2   bathroomcnt                   18490 non-null  float64\n",
      " 3   taxvaluedollarcnt             18490 non-null  float64\n",
      "dtypes: float64(4)\n",
      "memory usage: 722.3 KB\n"
     ]
    }
   ],
   "source": [
    "df.info()"
   ]
  },
  {
   "cell_type": "code",
   "execution_count": 8,
   "metadata": {
    "scrolled": true
   },
   "outputs": [
    {
     "data": {
      "text/html": [
       "<div>\n",
       "<style scoped>\n",
       "    .dataframe tbody tr th:only-of-type {\n",
       "        vertical-align: middle;\n",
       "    }\n",
       "\n",
       "    .dataframe tbody tr th {\n",
       "        vertical-align: top;\n",
       "    }\n",
       "\n",
       "    .dataframe thead th {\n",
       "        text-align: right;\n",
       "    }\n",
       "</style>\n",
       "<table border=\"1\" class=\"dataframe\">\n",
       "  <thead>\n",
       "    <tr style=\"text-align: right;\">\n",
       "      <th></th>\n",
       "      <th>calculatedfinishedsquarefeet</th>\n",
       "      <th>bedroomcnt</th>\n",
       "      <th>bathroomcnt</th>\n",
       "      <th>taxvaluedollarcnt</th>\n",
       "    </tr>\n",
       "  </thead>\n",
       "  <tbody>\n",
       "    <tr>\n",
       "      <th>count</th>\n",
       "      <td>18490.00000</td>\n",
       "      <td>18490.000000</td>\n",
       "      <td>18490.000000</td>\n",
       "      <td>1.849000e+04</td>\n",
       "    </tr>\n",
       "    <tr>\n",
       "      <th>mean</th>\n",
       "      <td>1794.93629</td>\n",
       "      <td>3.113413</td>\n",
       "      <td>2.284072</td>\n",
       "      <td>4.483963e+05</td>\n",
       "    </tr>\n",
       "    <tr>\n",
       "      <th>std</th>\n",
       "      <td>968.72753</td>\n",
       "      <td>1.016633</td>\n",
       "      <td>0.965707</td>\n",
       "      <td>5.490209e+05</td>\n",
       "    </tr>\n",
       "    <tr>\n",
       "      <th>min</th>\n",
       "      <td>60.00000</td>\n",
       "      <td>0.000000</td>\n",
       "      <td>0.000000</td>\n",
       "      <td>1.000000e+02</td>\n",
       "    </tr>\n",
       "    <tr>\n",
       "      <th>25%</th>\n",
       "      <td>1210.00000</td>\n",
       "      <td>2.000000</td>\n",
       "      <td>2.000000</td>\n",
       "      <td>1.979842e+05</td>\n",
       "    </tr>\n",
       "    <tr>\n",
       "      <th>50%</th>\n",
       "      <td>1566.00000</td>\n",
       "      <td>3.000000</td>\n",
       "      <td>2.000000</td>\n",
       "      <td>3.342260e+05</td>\n",
       "    </tr>\n",
       "    <tr>\n",
       "      <th>75%</th>\n",
       "      <td>2114.00000</td>\n",
       "      <td>4.000000</td>\n",
       "      <td>3.000000</td>\n",
       "      <td>5.308875e+05</td>\n",
       "    </tr>\n",
       "    <tr>\n",
       "      <th>max</th>\n",
       "      <td>26345.00000</td>\n",
       "      <td>10.000000</td>\n",
       "      <td>19.500000</td>\n",
       "      <td>1.717000e+07</td>\n",
       "    </tr>\n",
       "  </tbody>\n",
       "</table>\n",
       "</div>"
      ],
      "text/plain": [
       "       calculatedfinishedsquarefeet    bedroomcnt   bathroomcnt  \\\n",
       "count                   18490.00000  18490.000000  18490.000000   \n",
       "mean                     1794.93629      3.113413      2.284072   \n",
       "std                       968.72753      1.016633      0.965707   \n",
       "min                        60.00000      0.000000      0.000000   \n",
       "25%                      1210.00000      2.000000      2.000000   \n",
       "50%                      1566.00000      3.000000      2.000000   \n",
       "75%                      2114.00000      4.000000      3.000000   \n",
       "max                     26345.00000     10.000000     19.500000   \n",
       "\n",
       "       taxvaluedollarcnt  \n",
       "count       1.849000e+04  \n",
       "mean        4.483963e+05  \n",
       "std         5.490209e+05  \n",
       "min         1.000000e+02  \n",
       "25%         1.979842e+05  \n",
       "50%         3.342260e+05  \n",
       "75%         5.308875e+05  \n",
       "max         1.717000e+07  "
      ]
     },
     "execution_count": 8,
     "metadata": {},
     "output_type": "execute_result"
    }
   ],
   "source": [
    "df.describe()"
   ]
  },
  {
   "cell_type": "markdown",
   "metadata": {},
   "source": [
    "# Pre-Prepare Explore"
   ]
  },
  {
   "cell_type": "code",
   "execution_count": 9,
   "metadata": {},
   "outputs": [
    {
     "data": {
      "text/plain": [
       "<seaborn.axisgrid.PairGrid at 0x7fb218f01250>"
      ]
     },
     "execution_count": 9,
     "metadata": {},
     "output_type": "execute_result"
    },
    {
     "data": {
      "image/png": "[encoded data removed]",
      "text/plain": [
       "<Figure size 720x720 with 14 Axes>"
      ]
     },
     "metadata": {
      "needs_background": "light"
     },
     "output_type": "display_data"
    }
   ],
   "source": [
    "sns.pairplot(df, corner=True)"
   ]
  },
  {
   "cell_type": "code",
   "execution_count": 10,
   "metadata": {},
   "outputs": [
    {
     "data": {
      "text/plain": [
       "<matplotlib.axes._subplots.AxesSubplot at 0x7fb21b6f6310>"
      ]
     },
     "execution_count": 10,
     "metadata": {},
     "output_type": "execute_result"
    },
    {
     "data": {
      "image/png": "[encoded data removed]",
      "text/plain": [
       "<Figure size 432x288 with 2 Axes>"
      ]
     },
     "metadata": {
      "needs_background": "light"
     },
     "output_type": "display_data"
    }
   ],
   "source": [
    "sns.heatmap(df.corr(),cmap=\"Blues\")"
   ]
  },
  {
   "cell_type": "code",
   "execution_count": 11,
   "metadata": {},
   "outputs": [],
   "source": [
    "df.columns = ['square_feet','bed_count','bath_count','tax_value']"
   ]
  },
  {
   "cell_type": "code",
   "execution_count": 12,
   "metadata": {},
   "outputs": [
    {
     "data": {
      "text/plain": [
       "Index(['square_feet', 'bed_count', 'bath_count', 'tax_value'], dtype='object')"
      ]
     },
     "execution_count": 12,
     "metadata": {},
     "output_type": "execute_result"
    }
   ],
   "source": [
    "df.columns"
   ]
  },
  {
   "cell_type": "markdown",
   "metadata": {},
   "source": [
    "# Prepare"
   ]
  },
  {
   "cell_type": "code",
   "execution_count": 13,
   "metadata": {},
   "outputs": [],
   "source": [
    "def train_validate_test(df):\n",
    "    '''\n",
    "    Takes a dataframe and splits into train, validate, test \n",
    "    into 70%, 20%, 10% respectively.\n",
    "    '''\n",
    "\n",
    "    # Import to use split function, can only split two at a time\n",
    "    from sklearn.model_selection import train_test_split\n",
    "\n",
    "    # Frist, split into train + validate together and test by itself\n",
    "    # Test will be about %10 of the data, train + validate is %70 for now\n",
    "    # Set random_state so we can reproduce the same 'random' data\n",
    "    train_validate, test = train_test_split(df, test_size = .10, random_state = 123)\n",
    "\n",
    "    # Second, we plit train + validate into their seperate variables\n",
    "    # Train will be about %70 of the data, Validate will be about %20 of the data\n",
    "    train, validate = train_test_split(train_validate, test_size = .20, random_state = 123)\n",
    "\n",
    "    # These two print functions allow us to ensure the date is properly split\n",
    "    # Will print the shape of each variable when running the function\n",
    "    print(\"train shape: \", train.shape, \", validate shape: \", validate.shape, \", test shape: \", test.shape)\n",
    "\n",
    "    # Will print the shape of eachvariable as a percentage of the total data set\n",
    "    # Varialbe to hold the sum of all rows (total observations in the data)\n",
    "    total = df.count()[0]\n",
    "    print(\"\\ntrain percent: \", round(((train.shape[0])/total),2) * 100, \n",
    "            \", validate percent: \", round(((validate.shape[0])/total),2) * 100, \n",
    "            \", test percent: \", round(((test.shape[0])/total),2) * 100)\n",
    "\n",
    "    return train, validate, test"
   ]
  },
  {
   "cell_type": "code",
   "execution_count": 14,
   "metadata": {},
   "outputs": [
    {
     "name": "stdout",
     "output_type": "stream",
     "text": [
      "train shape:  (13312, 4) , validate shape:  (3329, 4) , test shape:  (1849, 4)\n",
      "\n",
      "train percent:  72.0 , validate percent:  18.0 , test percent:  10.0\n"
     ]
    }
   ],
   "source": [
    "train, validate, test = train_validate_test(df)"
   ]
  },
  {
   "cell_type": "code",
   "execution_count": 15,
   "metadata": {},
   "outputs": [
    {
     "data": {
      "text/html": [
       "<div>\n",
       "<style scoped>\n",
       "    .dataframe tbody tr th:only-of-type {\n",
       "        vertical-align: middle;\n",
       "    }\n",
       "\n",
       "    .dataframe tbody tr th {\n",
       "        vertical-align: top;\n",
       "    }\n",
       "\n",
       "    .dataframe thead th {\n",
       "        text-align: right;\n",
       "    }\n",
       "</style>\n",
       "<table border=\"1\" class=\"dataframe\">\n",
       "  <thead>\n",
       "    <tr style=\"text-align: right;\">\n",
       "      <th></th>\n",
       "      <th>square_feet</th>\n",
       "      <th>bed_count</th>\n",
       "      <th>bath_count</th>\n",
       "      <th>tax_value</th>\n",
       "    </tr>\n",
       "  </thead>\n",
       "  <tbody>\n",
       "    <tr>\n",
       "      <th>11548</th>\n",
       "      <td>1414.0</td>\n",
       "      <td>3.0</td>\n",
       "      <td>2.0</td>\n",
       "      <td>156164.0</td>\n",
       "    </tr>\n",
       "    <tr>\n",
       "      <th>4070</th>\n",
       "      <td>1541.0</td>\n",
       "      <td>2.0</td>\n",
       "      <td>3.0</td>\n",
       "      <td>245710.0</td>\n",
       "    </tr>\n",
       "    <tr>\n",
       "      <th>4206</th>\n",
       "      <td>1672.0</td>\n",
       "      <td>3.0</td>\n",
       "      <td>2.0</td>\n",
       "      <td>85486.0</td>\n",
       "    </tr>\n",
       "    <tr>\n",
       "      <th>13273</th>\n",
       "      <td>2555.0</td>\n",
       "      <td>4.0</td>\n",
       "      <td>3.0</td>\n",
       "      <td>587732.0</td>\n",
       "    </tr>\n",
       "    <tr>\n",
       "      <th>12135</th>\n",
       "      <td>1040.0</td>\n",
       "      <td>3.0</td>\n",
       "      <td>1.0</td>\n",
       "      <td>403858.0</td>\n",
       "    </tr>\n",
       "  </tbody>\n",
       "</table>\n",
       "</div>"
      ],
      "text/plain": [
       "       square_feet  bed_count  bath_count  tax_value\n",
       "11548       1414.0        3.0         2.0   156164.0\n",
       "4070        1541.0        2.0         3.0   245710.0\n",
       "4206        1672.0        3.0         2.0    85486.0\n",
       "13273       2555.0        4.0         3.0   587732.0\n",
       "12135       1040.0        3.0         1.0   403858.0"
      ]
     },
     "execution_count": 15,
     "metadata": {},
     "output_type": "execute_result"
    }
   ],
   "source": [
    "train.head()"
   ]
  },
  {
   "cell_type": "markdown",
   "metadata": {},
   "source": [
    "## Renaming Columns"
   ]
  },
  {
   "cell_type": "markdown",
   "metadata": {},
   "source": [
    "## Scaling data\n",
    "- taxvaluedollarcnt has a much higher range than the other features, especially bath/bedroom counts\n",
    "- we will fit the scaling object to the train df, then apply this to the validate and test\n",
    "    - *Only* fit to the *train* data, so the other data is still unseen"
   ]
  },
  {
   "cell_type": "code",
   "execution_count": 16,
   "metadata": {},
   "outputs": [
    {
     "data": {
      "image/png": "[encoded data removed]",
      "text/plain": [
       "<Figure size 1800x1080 with 4 Axes>"
      ]
     },
     "metadata": {
      "needs_background": "light"
     },
     "output_type": "display_data"
    }
   ],
   "source": [
    "# Construct a figure with subplots of histograms of features\n",
    "\n",
    "# sets size, can adjust to liking\n",
    "plt.subplots(figsize=(25, 15))\n",
    "\n",
    "plt.subplot(2,2,1);\n",
    "line1 = plt.hist(df.square_feet)\n",
    "plt.title('square_feet');\n",
    "\n",
    "plt.subplot(2,2,2);\n",
    "line2 = plt.hist(df.bed_count);\n",
    "plt.title('bed_count');\n",
    "\n",
    "plt.subplot(2,2,3);\n",
    "line3 = plt.hist(df.bath_count);\n",
    "plt.title('bath_count');\n",
    "\n",
    "plt.subplot(2,2,4);\n",
    "line3 = plt.hist(df.tax_value);\n",
    "plt.title('tax_value');"
   ]
  },
  {
   "cell_type": "code",
   "execution_count": 17,
   "metadata": {},
   "outputs": [
    {
     "name": "stderr",
     "output_type": "stream",
     "text": [
      "/usr/local/anaconda3/lib/python3.7/site-packages/seaborn/_decorators.py:43: FutureWarning: Pass the following variable as a keyword arg: x. From version 0.12, the only valid positional argument will be `data`, and passing other arguments without an explicit keyword will result in an error or misinterpretation.\n",
      "  FutureWarning\n",
      "/usr/local/anaconda3/lib/python3.7/site-packages/seaborn/_decorators.py:43: FutureWarning: Pass the following variable as a keyword arg: x. From version 0.12, the only valid positional argument will be `data`, and passing other arguments without an explicit keyword will result in an error or misinterpretation.\n",
      "  FutureWarning\n",
      "/usr/local/anaconda3/lib/python3.7/site-packages/seaborn/_decorators.py:43: FutureWarning: Pass the following variable as a keyword arg: x. From version 0.12, the only valid positional argument will be `data`, and passing other arguments without an explicit keyword will result in an error or misinterpretation.\n",
      "  FutureWarning\n",
      "/usr/local/anaconda3/lib/python3.7/site-packages/seaborn/_decorators.py:43: FutureWarning: Pass the following variable as a keyword arg: x. From version 0.12, the only valid positional argument will be `data`, and passing other arguments without an explicit keyword will result in an error or misinterpretation.\n",
      "  FutureWarning\n"
     ]
    },
    {
     "data": {
      "text/plain": [
       "<matplotlib.axes._subplots.AxesSubplot at 0x7fb21ccff410>"
      ]
     },
     "execution_count": 17,
     "metadata": {},
     "output_type": "execute_result"
    },
    {
     "data": {
      "image/png": "[encoded data removed]",
      "text/plain": [
       "<Figure size 1800x1080 with 4 Axes>"
      ]
     },
     "metadata": {
      "needs_background": "light"
     },
     "output_type": "display_data"
    }
   ],
   "source": [
    "# Construct a figure with subplots of histograms of features\n",
    "\n",
    "# sets size, can adjust to liking\n",
    "plt.subplots(figsize=(25, 15))\n",
    "\n",
    "plt.subplot(221)\n",
    "sns.boxplot(df.square_feet)\n",
    "\n",
    "plt.subplot(222)\n",
    "sns.boxplot(df.bed_count)\n",
    "\n",
    "plt.subplot(223)\n",
    "sns.boxplot(df.bath_count)\n",
    "\n",
    "plt.subplot(224)\n",
    "sns.boxplot(df.tax_value)"
   ]
  },
  {
   "cell_type": "markdown",
   "metadata": {},
   "source": [
    "## Takeaways\n",
    "- Bedroom count is the only normally distributed feature\n",
    "- Tax value is represented in scientific notation due to the large range\n",
    "- Outliers are in square_feet, bath_count, and tax_value\n",
    "- Need to remove outliers before scaling"
   ]
  },
  {
   "cell_type": "markdown",
   "metadata": {},
   "source": [
    "## Remove Outliers"
   ]
  },
  {
   "cell_type": "code",
   "execution_count": 18,
   "metadata": {},
   "outputs": [],
   "source": [
    "from scipy import stats\n",
    "\n",
    "# Calculate z-score for each value in df\n",
    "z = np.abs(stats.zscore(train))"
   ]
  },
  {
   "cell_type": "markdown",
   "metadata": {},
   "source": [
    "#### The Z-score is the signed number of standard deviations by which the value of an observation or data point is above the mean value of what is being observed or measured.\n",
    "\n",
    "#### In most of the cases a threshold of 3 or -3 is used i.e if the Z-score value is greater than or less than 3 or -3 respectively, that data point will be identified as outliers.\n",
    "\n",
    "- https://towardsdatascience.com/ways-to-detect-and-remove-the-outliers-404d16608dba"
   ]
  },
  {
   "cell_type": "code",
   "execution_count": 19,
   "metadata": {},
   "outputs": [
    {
     "name": "stdout",
     "output_type": "stream",
     "text": [
      "27.467826737211077\n"
     ]
    }
   ],
   "source": [
    "print(z.max())"
   ]
  },
  {
   "cell_type": "code",
   "execution_count": 20,
   "metadata": {},
   "outputs": [],
   "source": [
    "# outliers will be any value that is more than 3 standdard deviations from the average\n",
    "threshold = 3\n",
    "# print(np.where(z > 3))"
   ]
  },
  {
   "cell_type": "code",
   "execution_count": 21,
   "metadata": {},
   "outputs": [
    {
     "name": "stdout",
     "output_type": "stream",
     "text": [
      "square_feet       897.0\n",
      "bed_count           2.0\n",
      "bath_count          1.0\n",
      "tax_value      334050.0\n",
      "dtype: float64\n"
     ]
    }
   ],
   "source": [
    "Q1 = train.quantile(0.25)\n",
    "Q3 = train.quantile(0.75)\n",
    "IQR = Q3 - Q1\n",
    "print(IQR)"
   ]
  },
  {
   "cell_type": "code",
   "execution_count": 22,
   "metadata": {},
   "outputs": [],
   "source": [
    "train_o = train[(z < 3).all(axis=1)]"
   ]
  },
  {
   "cell_type": "code",
   "execution_count": 23,
   "metadata": {},
   "outputs": [
    {
     "data": {
      "text/html": [
       "<div>\n",
       "<style scoped>\n",
       "    .dataframe tbody tr th:only-of-type {\n",
       "        vertical-align: middle;\n",
       "    }\n",
       "\n",
       "    .dataframe tbody tr th {\n",
       "        vertical-align: top;\n",
       "    }\n",
       "\n",
       "    .dataframe thead th {\n",
       "        text-align: right;\n",
       "    }\n",
       "</style>\n",
       "<table border=\"1\" class=\"dataframe\">\n",
       "  <thead>\n",
       "    <tr style=\"text-align: right;\">\n",
       "      <th></th>\n",
       "      <th>square_feet</th>\n",
       "      <th>bed_count</th>\n",
       "      <th>bath_count</th>\n",
       "      <th>tax_value</th>\n",
       "    </tr>\n",
       "  </thead>\n",
       "  <tbody>\n",
       "    <tr>\n",
       "      <th>11548</th>\n",
       "      <td>1414.0</td>\n",
       "      <td>3.0</td>\n",
       "      <td>2.0</td>\n",
       "      <td>156164.0</td>\n",
       "    </tr>\n",
       "    <tr>\n",
       "      <th>4070</th>\n",
       "      <td>1541.0</td>\n",
       "      <td>2.0</td>\n",
       "      <td>3.0</td>\n",
       "      <td>245710.0</td>\n",
       "    </tr>\n",
       "    <tr>\n",
       "      <th>4206</th>\n",
       "      <td>1672.0</td>\n",
       "      <td>3.0</td>\n",
       "      <td>2.0</td>\n",
       "      <td>85486.0</td>\n",
       "    </tr>\n",
       "    <tr>\n",
       "      <th>13273</th>\n",
       "      <td>2555.0</td>\n",
       "      <td>4.0</td>\n",
       "      <td>3.0</td>\n",
       "      <td>587732.0</td>\n",
       "    </tr>\n",
       "    <tr>\n",
       "      <th>12135</th>\n",
       "      <td>1040.0</td>\n",
       "      <td>3.0</td>\n",
       "      <td>1.0</td>\n",
       "      <td>403858.0</td>\n",
       "    </tr>\n",
       "  </tbody>\n",
       "</table>\n",
       "</div>"
      ],
      "text/plain": [
       "       square_feet  bed_count  bath_count  tax_value\n",
       "11548       1414.0        3.0         2.0   156164.0\n",
       "4070        1541.0        2.0         3.0   245710.0\n",
       "4206        1672.0        3.0         2.0    85486.0\n",
       "13273       2555.0        4.0         3.0   587732.0\n",
       "12135       1040.0        3.0         1.0   403858.0"
      ]
     },
     "execution_count": 23,
     "metadata": {},
     "output_type": "execute_result"
    }
   ],
   "source": [
    "train_o.head()"
   ]
  },
  {
   "cell_type": "markdown",
   "metadata": {},
   "source": [
    "# Scaling DF with Outliers Removed"
   ]
  },
  {
   "cell_type": "code",
   "execution_count": 24,
   "metadata": {},
   "outputs": [],
   "source": [
    "# 1. Create the Scaling Object\n",
    "scaler = sklearn.preprocessing.StandardScaler()\n",
    "\n",
    "# 2. Fit to the train data only\n",
    "scaler.fit(train.drop('tax_value', axis=1))\n",
    "\n",
    "# 3. use the object on the whole df\n",
    "# this returns an array, so we convert to df in the same line\n",
    "train_scaled = pd.DataFrame(scaler.transform(train.drop('tax_value', axis=1)))\n",
    "validate_scaled = pd.DataFrame(scaler.transform(validate.drop('tax_value', axis=1)))\n",
    "test_scaled = pd.DataFrame(scaler.transform(test.drop('tax_value', axis=1)))\n",
    "\n",
    "# the result of changing an array to a df resets the index and columns\n",
    "# for each train, validate, and test, we change the index and columns back to original values\n",
    "\n",
    "# Train\n",
    "train_scaled.index = train.index\n",
    "train_scaled.columns = ['bath_count_scaled','bed_count_scaled','square_feet_scaled']\n",
    "train = pd.concat((train, train_scaled), axis=1)\n",
    "\n",
    "# Validate\n",
    "validate_scaled.index = validate.index\n",
    "validate_scaled.columns = ['bath_count_scaled','bed_count_scaled','square_feet_scaled']\n",
    "validate = pd.concat((validate, validate_scaled), axis=1)\n",
    "\n",
    "# Test\n",
    "test_scaled.index = test.index\n",
    "test_scaled.columns = ['bath_count_scaled','bed_count_scaled','square_feet_scaled']\n",
    "test = pd.concat((test, test_scaled), axis=1)"
   ]
  },
  {
   "cell_type": "code",
   "execution_count": 25,
   "metadata": {},
   "outputs": [
    {
     "data": {
      "text/html": [
       "<div>\n",
       "<style scoped>\n",
       "    .dataframe tbody tr th:only-of-type {\n",
       "        vertical-align: middle;\n",
       "    }\n",
       "\n",
       "    .dataframe tbody tr th {\n",
       "        vertical-align: top;\n",
       "    }\n",
       "\n",
       "    .dataframe thead th {\n",
       "        text-align: right;\n",
       "    }\n",
       "</style>\n",
       "<table border=\"1\" class=\"dataframe\">\n",
       "  <thead>\n",
       "    <tr style=\"text-align: right;\">\n",
       "      <th></th>\n",
       "      <th>square_feet</th>\n",
       "      <th>bed_count</th>\n",
       "      <th>bath_count</th>\n",
       "      <th>tax_value</th>\n",
       "      <th>bath_count_scaled</th>\n",
       "      <th>bed_count_scaled</th>\n",
       "      <th>square_feet_scaled</th>\n",
       "    </tr>\n",
       "  </thead>\n",
       "  <tbody>\n",
       "    <tr>\n",
       "      <th>11548</th>\n",
       "      <td>1414.0</td>\n",
       "      <td>3.0</td>\n",
       "      <td>2.0</td>\n",
       "      <td>156164.0</td>\n",
       "      <td>-0.393602</td>\n",
       "      <td>-0.113343</td>\n",
       "      <td>-0.295933</td>\n",
       "    </tr>\n",
       "    <tr>\n",
       "      <th>4070</th>\n",
       "      <td>1541.0</td>\n",
       "      <td>2.0</td>\n",
       "      <td>3.0</td>\n",
       "      <td>245710.0</td>\n",
       "      <td>-0.260492</td>\n",
       "      <td>-1.096286</td>\n",
       "      <td>0.753889</td>\n",
       "    </tr>\n",
       "    <tr>\n",
       "      <th>4206</th>\n",
       "      <td>1672.0</td>\n",
       "      <td>3.0</td>\n",
       "      <td>2.0</td>\n",
       "      <td>85486.0</td>\n",
       "      <td>-0.123189</td>\n",
       "      <td>-0.113343</td>\n",
       "      <td>-0.295933</td>\n",
       "    </tr>\n",
       "    <tr>\n",
       "      <th>13273</th>\n",
       "      <td>2555.0</td>\n",
       "      <td>4.0</td>\n",
       "      <td>3.0</td>\n",
       "      <td>587732.0</td>\n",
       "      <td>0.802292</td>\n",
       "      <td>0.869601</td>\n",
       "      <td>0.753889</td>\n",
       "    </tr>\n",
       "    <tr>\n",
       "      <th>12135</th>\n",
       "      <td>1040.0</td>\n",
       "      <td>3.0</td>\n",
       "      <td>1.0</td>\n",
       "      <td>403858.0</td>\n",
       "      <td>-0.785595</td>\n",
       "      <td>-0.113343</td>\n",
       "      <td>-1.345755</td>\n",
       "    </tr>\n",
       "    <tr>\n",
       "      <th>...</th>\n",
       "      <td>...</td>\n",
       "      <td>...</td>\n",
       "      <td>...</td>\n",
       "      <td>...</td>\n",
       "      <td>...</td>\n",
       "      <td>...</td>\n",
       "      <td>...</td>\n",
       "    </tr>\n",
       "    <tr>\n",
       "      <th>2281</th>\n",
       "      <td>1470.0</td>\n",
       "      <td>2.0</td>\n",
       "      <td>3.0</td>\n",
       "      <td>956364.0</td>\n",
       "      <td>-0.334908</td>\n",
       "      <td>-1.096286</td>\n",
       "      <td>0.753889</td>\n",
       "    </tr>\n",
       "    <tr>\n",
       "      <th>10801</th>\n",
       "      <td>1288.0</td>\n",
       "      <td>2.0</td>\n",
       "      <td>1.0</td>\n",
       "      <td>402821.0</td>\n",
       "      <td>-0.525664</td>\n",
       "      <td>-1.096286</td>\n",
       "      <td>-1.345755</td>\n",
       "    </tr>\n",
       "    <tr>\n",
       "      <th>324</th>\n",
       "      <td>2547.0</td>\n",
       "      <td>3.0</td>\n",
       "      <td>2.5</td>\n",
       "      <td>2274016.0</td>\n",
       "      <td>0.793907</td>\n",
       "      <td>-0.113343</td>\n",
       "      <td>0.228978</td>\n",
       "    </tr>\n",
       "    <tr>\n",
       "      <th>17727</th>\n",
       "      <td>756.0</td>\n",
       "      <td>2.0</td>\n",
       "      <td>1.0</td>\n",
       "      <td>54834.0</td>\n",
       "      <td>-1.083258</td>\n",
       "      <td>-1.096286</td>\n",
       "      <td>-1.345755</td>\n",
       "    </tr>\n",
       "    <tr>\n",
       "      <th>17717</th>\n",
       "      <td>1451.0</td>\n",
       "      <td>3.0</td>\n",
       "      <td>1.0</td>\n",
       "      <td>681000.0</td>\n",
       "      <td>-0.354822</td>\n",
       "      <td>-0.113343</td>\n",
       "      <td>-1.345755</td>\n",
       "    </tr>\n",
       "  </tbody>\n",
       "</table>\n",
       "<p>13312 rows × 7 columns</p>\n",
       "</div>"
      ],
      "text/plain": [
       "       square_feet  bed_count  bath_count  tax_value  bath_count_scaled  \\\n",
       "11548       1414.0        3.0         2.0   156164.0          -0.393602   \n",
       "4070        1541.0        2.0         3.0   245710.0          -0.260492   \n",
       "4206        1672.0        3.0         2.0    85486.0          -0.123189   \n",
       "13273       2555.0        4.0         3.0   587732.0           0.802292   \n",
       "12135       1040.0        3.0         1.0   403858.0          -0.785595   \n",
       "...            ...        ...         ...        ...                ...   \n",
       "2281        1470.0        2.0         3.0   956364.0          -0.334908   \n",
       "10801       1288.0        2.0         1.0   402821.0          -0.525664   \n",
       "324         2547.0        3.0         2.5  2274016.0           0.793907   \n",
       "17727        756.0        2.0         1.0    54834.0          -1.083258   \n",
       "17717       1451.0        3.0         1.0   681000.0          -0.354822   \n",
       "\n",
       "       bed_count_scaled  square_feet_scaled  \n",
       "11548         -0.113343           -0.295933  \n",
       "4070          -1.096286            0.753889  \n",
       "4206          -0.113343           -0.295933  \n",
       "13273          0.869601            0.753889  \n",
       "12135         -0.113343           -1.345755  \n",
       "...                 ...                 ...  \n",
       "2281          -1.096286            0.753889  \n",
       "10801         -1.096286           -1.345755  \n",
       "324           -0.113343            0.228978  \n",
       "17727         -1.096286           -1.345755  \n",
       "17717         -0.113343           -1.345755  \n",
       "\n",
       "[13312 rows x 7 columns]"
      ]
     },
     "execution_count": 25,
     "metadata": {},
     "output_type": "execute_result"
    }
   ],
   "source": [
    "train"
   ]
  },
  {
   "cell_type": "code",
   "execution_count": 33,
   "metadata": {},
   "outputs": [
    {
     "data": {
      "text/plain": [
       "Text(0.5, 1.0, 'Standard Scaled Square Feet')"
      ]
     },
     "execution_count": 33,
     "metadata": {},
     "output_type": "execute_result"
    },
    {
     "data": {
      "image/png": "[encoded data removed]",
      "text/plain": [
       "<Figure size 1080x720 with 6 Axes>"
      ]
     },
     "metadata": {
      "needs_background": "light"
     },
     "output_type": "display_data"
    }
   ],
   "source": [
    "plt.figure(figsize=(15, 10))\n",
    "\n",
    "plt.subplot(321)\n",
    "plt.hist(train.square_feet, bins=25, ec='black')\n",
    "plt.title('Original Square Feet')\n",
    "plt.subplot(322)\n",
    "plt.hist(train.square_feet_scaled, bins=25, ec='black')\n",
    "plt.title('Standard Scaled Square Feet')\n",
    "\n",
    "plt.subplot(323)\n",
    "plt.hist(train.bed_count, bins=25, ec='black')\n",
    "plt.title('Original Bed Count')\n",
    "plt.subplot(324)\n",
    "plt.hist(train.bed_count_scaled, bins=25, ec='black')\n",
    "plt.title('Standard Scaled Bed Count')\n",
    "\n",
    "plt.subplot(325)\n",
    "plt.hist(train.bath_count, bins=25, ec='black')\n",
    "plt.title('Original Square Feet')\n",
    "plt.subplot(326)\n",
    "plt.hist(train.bath_count_scaled, bins=25, ec='black')\n",
    "plt.title('Standard Scaled Square Feet')"
   ]
  }
 ],
 "metadata": {
  "kernelspec": {
   "display_name": "Python 3",
   "language": "python",
   "name": "python3"
  },
  "language_info": {
   "codemirror_mode": {
    "name": "ipython",
    "version": 3
   },
   "file_extension": ".py",
   "mimetype": "text/x-python",
   "name": "python",
   "nbconvert_exporter": "python",
   "pygments_lexer": "ipython3",
   "version": "3.7.6"
  }
 },
 "nbformat": 4,
 "nbformat_minor": 4
}
